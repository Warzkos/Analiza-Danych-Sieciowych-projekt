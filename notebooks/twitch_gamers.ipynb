{
 "cells": [
  {
   "cell_type": "code",
   "execution_count": 1,
   "metadata": {
    "collapsed": true
   },
   "outputs": [],
   "source": [
    "import pandas as pd\n",
    "import numpy as np\n",
    "import networkx as nx"
   ]
  },
  {
   "cell_type": "code",
   "execution_count": 2,
   "outputs": [
    {
     "data": {
      "text/plain": "         numeric_id_1  numeric_id_2\n0               98343        141493\n1               98343         58736\n2               98343        140703\n3               98343        151401\n4               98343        157118\n...               ...           ...\n6797552         97507         29359\n6797553         71175         12020\n6797554        151702        128281\n6797555        118034         38021\n6797556         27819        153993\n\n[6797557 rows x 2 columns]",
      "text/html": "<div>\n<style scoped>\n    .dataframe tbody tr th:only-of-type {\n        vertical-align: middle;\n    }\n\n    .dataframe tbody tr th {\n        vertical-align: top;\n    }\n\n    .dataframe thead th {\n        text-align: right;\n    }\n</style>\n<table border=\"1\" class=\"dataframe\">\n  <thead>\n    <tr style=\"text-align: right;\">\n      <th></th>\n      <th>numeric_id_1</th>\n      <th>numeric_id_2</th>\n    </tr>\n  </thead>\n  <tbody>\n    <tr>\n      <th>0</th>\n      <td>98343</td>\n      <td>141493</td>\n    </tr>\n    <tr>\n      <th>1</th>\n      <td>98343</td>\n      <td>58736</td>\n    </tr>\n    <tr>\n      <th>2</th>\n      <td>98343</td>\n      <td>140703</td>\n    </tr>\n    <tr>\n      <th>3</th>\n      <td>98343</td>\n      <td>151401</td>\n    </tr>\n    <tr>\n      <th>4</th>\n      <td>98343</td>\n      <td>157118</td>\n    </tr>\n    <tr>\n      <th>...</th>\n      <td>...</td>\n      <td>...</td>\n    </tr>\n    <tr>\n      <th>6797552</th>\n      <td>97507</td>\n      <td>29359</td>\n    </tr>\n    <tr>\n      <th>6797553</th>\n      <td>71175</td>\n      <td>12020</td>\n    </tr>\n    <tr>\n      <th>6797554</th>\n      <td>151702</td>\n      <td>128281</td>\n    </tr>\n    <tr>\n      <th>6797555</th>\n      <td>118034</td>\n      <td>38021</td>\n    </tr>\n    <tr>\n      <th>6797556</th>\n      <td>27819</td>\n      <td>153993</td>\n    </tr>\n  </tbody>\n</table>\n<p>6797557 rows × 2 columns</p>\n</div>"
     },
     "execution_count": 2,
     "metadata": {},
     "output_type": "execute_result"
    }
   ],
   "source": [
    "edges = pd.read_csv('../data/twitch_gamers/large_twitch_edges.csv')\n",
    "edges"
   ],
   "metadata": {
    "collapsed": false
   }
  },
  {
   "cell_type": "code",
   "execution_count": 5,
   "outputs": [
    {
     "data": {
      "text/plain": "         views  mature  life_time  created_at  updated_at  numeric_id  \\\n0         7879       1        969  2016-02-16  2018-10-12           0   \n1          500       0       2699  2011-05-19  2018-10-08           1   \n2       382502       1       3149  2010-02-27  2018-10-12           2   \n3          386       0       1344  2015-01-26  2018-10-01           3   \n4         2486       0       1784  2013-11-22  2018-10-11           4   \n...        ...     ...        ...         ...         ...         ...   \n168109    4965       0        810  2016-07-20  2018-10-08      168109   \n168110    4128       1       2080  2013-01-31  2018-10-12      168110   \n168111    3545       0       1797  2013-11-08  2018-10-10      168111   \n168112  892736       1       2135  2012-12-07  2018-10-12      168112   \n168113     791       0       2005  2013-01-22  2018-07-20      168113   \n\n        dead_account language  affiliate  \n0                  0       EN          1  \n1                  0       EN          0  \n2                  0       EN          1  \n3                  0       EN          0  \n4                  0       EN          0  \n...              ...      ...        ...  \n168109             0       EN          0  \n168110             0       EN          0  \n168111             0       EN          1  \n168112             0       EN          0  \n168113             0       EN          0  \n\n[168114 rows x 9 columns]",
      "text/html": "<div>\n<style scoped>\n    .dataframe tbody tr th:only-of-type {\n        vertical-align: middle;\n    }\n\n    .dataframe tbody tr th {\n        vertical-align: top;\n    }\n\n    .dataframe thead th {\n        text-align: right;\n    }\n</style>\n<table border=\"1\" class=\"dataframe\">\n  <thead>\n    <tr style=\"text-align: right;\">\n      <th></th>\n      <th>views</th>\n      <th>mature</th>\n      <th>life_time</th>\n      <th>created_at</th>\n      <th>updated_at</th>\n      <th>numeric_id</th>\n      <th>dead_account</th>\n      <th>language</th>\n      <th>affiliate</th>\n    </tr>\n  </thead>\n  <tbody>\n    <tr>\n      <th>0</th>\n      <td>7879</td>\n      <td>1</td>\n      <td>969</td>\n      <td>2016-02-16</td>\n      <td>2018-10-12</td>\n      <td>0</td>\n      <td>0</td>\n      <td>EN</td>\n      <td>1</td>\n    </tr>\n    <tr>\n      <th>1</th>\n      <td>500</td>\n      <td>0</td>\n      <td>2699</td>\n      <td>2011-05-19</td>\n      <td>2018-10-08</td>\n      <td>1</td>\n      <td>0</td>\n      <td>EN</td>\n      <td>0</td>\n    </tr>\n    <tr>\n      <th>2</th>\n      <td>382502</td>\n      <td>1</td>\n      <td>3149</td>\n      <td>2010-02-27</td>\n      <td>2018-10-12</td>\n      <td>2</td>\n      <td>0</td>\n      <td>EN</td>\n      <td>1</td>\n    </tr>\n    <tr>\n      <th>3</th>\n      <td>386</td>\n      <td>0</td>\n      <td>1344</td>\n      <td>2015-01-26</td>\n      <td>2018-10-01</td>\n      <td>3</td>\n      <td>0</td>\n      <td>EN</td>\n      <td>0</td>\n    </tr>\n    <tr>\n      <th>4</th>\n      <td>2486</td>\n      <td>0</td>\n      <td>1784</td>\n      <td>2013-11-22</td>\n      <td>2018-10-11</td>\n      <td>4</td>\n      <td>0</td>\n      <td>EN</td>\n      <td>0</td>\n    </tr>\n    <tr>\n      <th>...</th>\n      <td>...</td>\n      <td>...</td>\n      <td>...</td>\n      <td>...</td>\n      <td>...</td>\n      <td>...</td>\n      <td>...</td>\n      <td>...</td>\n      <td>...</td>\n    </tr>\n    <tr>\n      <th>168109</th>\n      <td>4965</td>\n      <td>0</td>\n      <td>810</td>\n      <td>2016-07-20</td>\n      <td>2018-10-08</td>\n      <td>168109</td>\n      <td>0</td>\n      <td>EN</td>\n      <td>0</td>\n    </tr>\n    <tr>\n      <th>168110</th>\n      <td>4128</td>\n      <td>1</td>\n      <td>2080</td>\n      <td>2013-01-31</td>\n      <td>2018-10-12</td>\n      <td>168110</td>\n      <td>0</td>\n      <td>EN</td>\n      <td>0</td>\n    </tr>\n    <tr>\n      <th>168111</th>\n      <td>3545</td>\n      <td>0</td>\n      <td>1797</td>\n      <td>2013-11-08</td>\n      <td>2018-10-10</td>\n      <td>168111</td>\n      <td>0</td>\n      <td>EN</td>\n      <td>1</td>\n    </tr>\n    <tr>\n      <th>168112</th>\n      <td>892736</td>\n      <td>1</td>\n      <td>2135</td>\n      <td>2012-12-07</td>\n      <td>2018-10-12</td>\n      <td>168112</td>\n      <td>0</td>\n      <td>EN</td>\n      <td>0</td>\n    </tr>\n    <tr>\n      <th>168113</th>\n      <td>791</td>\n      <td>0</td>\n      <td>2005</td>\n      <td>2013-01-22</td>\n      <td>2018-07-20</td>\n      <td>168113</td>\n      <td>0</td>\n      <td>EN</td>\n      <td>0</td>\n    </tr>\n  </tbody>\n</table>\n<p>168114 rows × 9 columns</p>\n</div>"
     },
     "execution_count": 5,
     "metadata": {},
     "output_type": "execute_result"
    }
   ],
   "source": [
    "nodes = pd.read_csv('../data/twitch_gamers/large_twitch_features.csv')\n",
    "nodes"
   ],
   "metadata": {
    "collapsed": false
   }
  },
  {
   "cell_type": "code",
   "execution_count": 6,
   "outputs": [],
   "source": [
    "from sklearn.preprocessing import StandardScaler\n",
    "import torch\n",
    "\n",
    "X = np.asarray(nodes[['numeric_id', 'views', 'life_time', 'dead_account', 'affiliate']].values)\n",
    "y = np.asarray(nodes[['mature']].values).ravel()\n",
    "\n",
    "G = nx.from_pandas_edgelist(edges, source='numeric_id_1', target='numeric_id_2')"
   ],
   "metadata": {
    "collapsed": false
   }
  },
  {
   "cell_type": "code",
   "execution_count": 8,
   "outputs": [
    {
     "data": {
      "text/plain": "168114"
     },
     "execution_count": 8,
     "metadata": {},
     "output_type": "execute_result"
    }
   ],
   "source": [
    "G.number_of_nodes()"
   ],
   "metadata": {
    "collapsed": false
   }
  },
  {
   "cell_type": "code",
   "execution_count": null,
   "outputs": [],
   "source": [
    "# pos = nx.spring_layout(G, seed=42)\n",
    "# nx.draw_networkx_edges(G, pos, alpha=0.2)\n",
    "# nx.draw_networkx_nodes(G, pos, nodelist=G.nodes(), node_size=1)"
   ],
   "metadata": {
    "collapsed": false,
    "pycharm": {
     "is_executing": true
    }
   }
  },
  {
   "cell_type": "code",
   "execution_count": 9,
   "outputs": [],
   "source": [
    "adj = nx.to_scipy_sparse_array(G).tocoo()\n",
    "row = torch.from_numpy(adj.row.astype(np.int64))\n",
    "col = torch.from_numpy(adj.col.astype(np.int64))\n",
    "edge_index = torch.stack([row, col], dim=0)"
   ],
   "metadata": {
    "collapsed": false
   }
  },
  {
   "cell_type": "code",
   "execution_count": 10,
   "outputs": [
    {
     "name": "stdout",
     "output_type": "stream",
     "text": [
      "(168114, 5)\n",
      "(168114,)\n",
      "torch.Size([2, 13595114])\n"
     ]
    }
   ],
   "source": [
    "print(X.shape)\n",
    "print(y.shape)\n",
    "print(edge_index.shape)"
   ],
   "metadata": {
    "collapsed": false
   }
  },
  {
   "cell_type": "code",
   "execution_count": 11,
   "outputs": [],
   "source": [
    "\n",
    "from sklearn.model_selection import train_test_split\n",
    "from torch_geometric.data import Data, InMemoryDataset\n",
    "from torch_geometric.loader import DataLoader\n",
    "\n",
    "class CustomDataset(InMemoryDataset):\n",
    "    def __init__(self, transform=None):\n",
    "        super(CustomDataset, self).__init__('.', transform, None, None)\n",
    "\n",
    "        data = Data(x=X, y=y, edge_index=edge_index)\n",
    "        data.x = torch.from_numpy(X).type(torch.float32)\n",
    "        data.y = torch.from_numpy(y).type(torch.long)\n",
    "        data.num_classes = 2\n",
    "\n",
    "        # splitting the data into train, validation and test\n",
    "        X_train, X_test, y_train, y_test = train_test_split(pd.Series(X[:,0]),pd.Series(y),test_size=0.30,random_state=42)\n",
    "\n",
    "        # create train and test masks for data\n",
    "        train_mask = torch.zeros(data.num_nodes, dtype=torch.bool)\n",
    "        test_mask = torch.zeros(data.num_nodes, dtype=torch.bool)\n",
    "        train_mask[X_train.index] = True\n",
    "        test_mask[X_test.index] = True\n",
    "        data['train_mask'] = train_mask\n",
    "        data['test_mask'] = test_mask\n",
    "\n",
    "        self.data, self.slices = self.collate([data])\n",
    "\n",
    "\n",
    "dataset = CustomDataset()\n",
    "data = dataset[0]\n"
   ],
   "metadata": {
    "collapsed": false
   }
  },
  {
   "cell_type": "code",
   "execution_count": 15,
   "outputs": [
    {
     "data": {
      "text/plain": "2"
     },
     "execution_count": 15,
     "metadata": {},
     "output_type": "execute_result"
    }
   ],
   "source": [
    "data.num_classes"
   ],
   "metadata": {
    "collapsed": false
   }
  },
  {
   "cell_type": "code",
   "execution_count": 16,
   "outputs": [],
   "source": [
    "import torch.nn as nn\n",
    "import torch.nn.functional as F\n",
    "from torch_geometric.nn import GCNConv\n",
    "\n",
    "# GCN model with 2 layers\n",
    "class Net(torch.nn.Module):\n",
    "    def __init__(self, input_dim, output_dim):\n",
    "        super(Net, self).__init__()\n",
    "        self.conv1 = GCNConv(dataset.num_features, 16)\n",
    "        self.conv2 = GCNConv(16, dataset.num_classes)\n",
    "\n",
    "    def forward(self, data):\n",
    "        x, edge_index = data.x, data.edge_index\n",
    "        x = F.relu(self.conv1(x, edge_index))\n",
    "        x = F.dropout(x, training=self.training)\n",
    "        x = self.conv2(x, edge_index)\n",
    "        return F.log_softmax(x, dim=1)"
   ],
   "metadata": {
    "collapsed": false
   }
  },
  {
   "cell_type": "code",
   "execution_count": null,
   "outputs": [],
   "source": [
    "# from torch_geometric.datasets import Planetoid\n",
    "#\n",
    "# dataset = Planetoid(root='/tmp/Cora', name='Cora')"
   ],
   "metadata": {
    "collapsed": false,
    "pycharm": {
     "is_executing": true
    }
   }
  },
  {
   "cell_type": "code",
   "execution_count": 18,
   "outputs": [
    {
     "name": "stdout",
     "output_type": "stream",
     "text": [
      "Epoch 1/100, Loss: 0.2746\n",
      "Epoch 2/100, Loss: 0.2542\n",
      "Epoch 3/100, Loss: 0.2501\n",
      "Epoch 4/100, Loss: 0.2535\n",
      "Epoch 5/100, Loss: 0.2415\n",
      "Epoch 6/100, Loss: 0.2402\n",
      "Epoch 7/100, Loss: 0.2372\n",
      "Epoch 8/100, Loss: 0.2142\n",
      "Epoch 9/100, Loss: 0.2165\n",
      "Epoch 10/100, Loss: 0.2081\n",
      "Epoch 11/100, Loss: 0.1938\n",
      "Epoch 12/100, Loss: 0.1948\n",
      "Epoch 13/100, Loss: 0.2038\n",
      "Epoch 14/100, Loss: 0.1805\n",
      "Epoch 15/100, Loss: 0.1768\n",
      "Epoch 16/100, Loss: 0.1704\n",
      "Epoch 17/100, Loss: 0.1682\n",
      "Epoch 18/100, Loss: 0.1534\n",
      "Epoch 19/100, Loss: 0.1510\n",
      "Epoch 20/100, Loss: 0.1437\n",
      "Epoch 21/100, Loss: 0.1345\n",
      "Epoch 22/100, Loss: 0.1243\n",
      "Epoch 23/100, Loss: 0.1179\n",
      "Epoch 24/100, Loss: 0.1193\n",
      "Epoch 25/100, Loss: 0.1180\n",
      "Epoch 26/100, Loss: 0.1073\n",
      "Epoch 27/100, Loss: 0.1012\n",
      "Epoch 28/100, Loss: 0.0974\n",
      "Epoch 29/100, Loss: 0.0943\n",
      "Epoch 30/100, Loss: 0.0892\n",
      "Epoch 31/100, Loss: 0.0846\n",
      "Epoch 32/100, Loss: 0.0774\n",
      "Epoch 33/100, Loss: 0.0722\n",
      "Epoch 34/100, Loss: 0.0710\n",
      "Epoch 35/100, Loss: 0.0665\n",
      "Epoch 36/100, Loss: 0.0656\n",
      "Epoch 37/100, Loss: 0.0656\n",
      "Epoch 38/100, Loss: 0.0621\n",
      "Epoch 39/100, Loss: 0.0631\n",
      "Epoch 40/100, Loss: 0.0631\n",
      "Epoch 41/100, Loss: 0.0580\n",
      "Epoch 42/100, Loss: 0.0620\n",
      "Epoch 43/100, Loss: 0.0590\n",
      "Epoch 44/100, Loss: 0.0616\n",
      "Epoch 45/100, Loss: 0.0648\n",
      "Epoch 46/100, Loss: 0.0634\n",
      "Epoch 47/100, Loss: 0.0614\n",
      "Epoch 48/100, Loss: 0.0660\n",
      "Epoch 49/100, Loss: 0.0581\n",
      "Epoch 50/100, Loss: 0.0629\n",
      "Epoch 51/100, Loss: 0.0629\n",
      "Epoch 52/100, Loss: 0.0637\n",
      "Epoch 53/100, Loss: 0.0663\n",
      "Epoch 54/100, Loss: 0.0602\n",
      "Epoch 55/100, Loss: 0.0586\n",
      "Epoch 56/100, Loss: 0.0618\n",
      "Epoch 57/100, Loss: 0.0572\n",
      "Epoch 58/100, Loss: 0.0616\n",
      "Epoch 59/100, Loss: 0.0591\n",
      "Epoch 60/100, Loss: 0.0589\n",
      "Epoch 61/100, Loss: 0.0597\n",
      "Epoch 62/100, Loss: 0.0574\n",
      "Epoch 63/100, Loss: 0.0583\n",
      "Epoch 64/100, Loss: 0.0565\n",
      "Epoch 65/100, Loss: 0.0596\n",
      "Epoch 66/100, Loss: 0.0585\n",
      "Epoch 67/100, Loss: 0.0555\n",
      "Epoch 68/100, Loss: 0.0586\n",
      "Epoch 69/100, Loss: 0.0557\n",
      "Epoch 70/100, Loss: 0.0553\n",
      "Epoch 71/100, Loss: 0.0587\n",
      "Epoch 72/100, Loss: 0.0549\n",
      "Epoch 73/100, Loss: 0.0566\n",
      "Epoch 74/100, Loss: 0.0543\n",
      "Epoch 75/100, Loss: 0.0556\n",
      "Epoch 76/100, Loss: 0.0587\n",
      "Epoch 77/100, Loss: 0.0582\n",
      "Epoch 78/100, Loss: 0.0560\n",
      "Epoch 79/100, Loss: 0.0564\n",
      "Epoch 80/100, Loss: 0.0573\n",
      "Epoch 81/100, Loss: 0.0547\n",
      "Epoch 82/100, Loss: 0.0559\n",
      "Epoch 83/100, Loss: 0.0564\n",
      "Epoch 84/100, Loss: 0.0577\n",
      "Epoch 85/100, Loss: 0.0539\n",
      "Epoch 86/100, Loss: 0.0554\n",
      "Epoch 87/100, Loss: 0.0586\n",
      "Epoch 88/100, Loss: 0.0583\n",
      "Epoch 89/100, Loss: 0.0560\n",
      "Epoch 90/100, Loss: 0.0562\n",
      "Epoch 91/100, Loss: 0.0551\n",
      "Epoch 92/100, Loss: 0.0584\n",
      "Epoch 93/100, Loss: 0.0576\n",
      "Epoch 94/100, Loss: 0.0561\n",
      "Epoch 95/100, Loss: 0.0543\n",
      "Epoch 96/100, Loss: 0.0589\n",
      "Epoch 97/100, Loss: 0.0544\n",
      "Epoch 98/100, Loss: 0.0544\n",
      "Epoch 99/100, Loss: 0.0555\n",
      "Epoch 100/100, Loss: 0.0548\n"
     ]
    }
   ],
   "source": [
    "from torch import optim\n",
    "import torch.nn.functional as F\n",
    "\n",
    "# Set device\n",
    "device = torch.device('cuda' if torch.cuda.is_available() else 'cpu')\n",
    "data = dataset[0].to(device)\n",
    "\n",
    "# Define the GNN model\n",
    "input_dim = dataset.num_node_features  # Number of input features\n",
    "hidden_dim = 64  # Number of hidden units\n",
    "output_dim = dataset.num_classes  # Number of output classes\n",
    "model = Net(input_dim, output_dim).to(device)\n",
    "\n",
    "# Define the loss function and optimizer\n",
    "criterion = nn.CrossEntropyLoss()\n",
    "# criterion = nn.NLLLoss()\n",
    "optimizer = optim.Adam(model.parameters(), lr=0.001)\n",
    "\n",
    "\n",
    "num_epochs = 100\n",
    "# Training loop\n",
    "for epoch in range(num_epochs):\n",
    "    running_loss = 0.0\n",
    "    # Zero the gradients\n",
    "    optimizer.zero_grad()\n",
    "    # Forward pass\n",
    "    outputs = model(data)\n",
    "\n",
    "    # Compute loss\n",
    "    loss = criterion(outputs[data.train_mask], data.y[data.train_mask])\n",
    "\n",
    "    # Backward pass and optimize\n",
    "    loss.backward()\n",
    "    optimizer.step()\n",
    "\n",
    "    running_loss += loss.item()\n",
    "\n",
    "    epoch_loss = running_loss / len(data.y[data.train_mask])\n",
    "    print(f'Epoch {epoch+1}/{num_epochs}, Loss: {epoch_loss:.4f}')\n",
    "\n",
    "    # # Evaluate the model\n",
    "    # accuracy = evaluate(model, dataloader)\n",
    "    # print(f'Accuracy on the validation set: {accuracy:.2%}')"
   ],
   "metadata": {
    "collapsed": false
   }
  },
  {
   "cell_type": "code",
   "execution_count": 19,
   "outputs": [
    {
     "name": "stdout",
     "output_type": "stream",
     "text": [
      "Accuracy: 0.5114\n"
     ]
    }
   ],
   "source": [
    "model.eval()\n",
    "pred = model(data).argmax(dim=1)\n",
    "correct = (pred[data.test_mask] == data.y[data.test_mask]).sum()\n",
    "acc = int(correct) / int(data.test_mask.sum())\n",
    "print(f'Accuracy: {acc:.4f}')"
   ],
   "metadata": {
    "collapsed": false
   }
  }
 ],
 "metadata": {
  "kernelspec": {
   "display_name": "Python 3",
   "language": "python",
   "name": "python3"
  },
  "language_info": {
   "codemirror_mode": {
    "name": "ipython",
    "version": 2
   },
   "file_extension": ".py",
   "mimetype": "text/x-python",
   "name": "python",
   "nbconvert_exporter": "python",
   "pygments_lexer": "ipython2",
   "version": "2.7.6"
  }
 },
 "nbformat": 4,
 "nbformat_minor": 0
}
