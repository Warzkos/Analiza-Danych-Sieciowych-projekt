{
  "cells": [
    {
      "cell_type": "code",
      "source": [
        "from google.colab import drive\n",
        "drive.mount('/content/drive')"
      ],
      "metadata": {
        "id": "LVs784fG75HO",
        "colab": {
          "base_uri": "https://localhost:8080/"
        },
        "outputId": "23a659fd-1036-478c-ace7-f02ea4d6a759"
      },
      "execution_count": null,
      "outputs": [
        {
          "output_type": "stream",
          "name": "stdout",
          "text": [
            "Mounted at /content/drive\n"
          ]
        }
      ]
    },
    {
      "cell_type": "markdown",
      "source": [
        "# Packages and imports"
      ],
      "metadata": {
        "id": "Lkkfc0NSi8bR"
      }
    },
    {
      "cell_type": "code",
      "execution_count": null,
      "metadata": {
        "collapsed": true,
        "id": "_JNjWDPC71qb"
      },
      "outputs": [],
      "source": [
        "import pandas as pd\n",
        "import numpy as np\n",
        "import networkx as nx\n",
        "import torch\n",
        "import random\n",
        "import matplotlib.pyplot as plt"
      ]
    },
    {
      "cell_type": "code",
      "source": [
        "!pip install torch_geometric -q\n",
        "!pip install torcheval -q\n",
        "!pip install torchmetrics -q"
      ],
      "metadata": {
        "id": "bJ9hSA03KBCs",
        "colab": {
          "base_uri": "https://localhost:8080/"
        },
        "outputId": "d3c446ad-5c4a-45e5-d654-e65968c89038"
      },
      "execution_count": null,
      "outputs": [
        {
          "output_type": "stream",
          "name": "stdout",
          "text": [
            "\u001b[?25l     \u001b[90m━━━━━━━━━━━━━━━━━━━━━━━━━━━━━━━━━━━━━━━━\u001b[0m \u001b[32m0.0/661.6 kB\u001b[0m \u001b[31m?\u001b[0m eta \u001b[36m-:--:--\u001b[0m\r\u001b[2K     \u001b[90m━━━━━━━━━━━━━━━━━━━━━━━━━━━━━━━━━━━━━━\u001b[0m \u001b[32m661.6/661.6 kB\u001b[0m \u001b[31m31.1 MB/s\u001b[0m eta \u001b[36m0:00:00\u001b[0m\n",
            "\u001b[?25h  Installing build dependencies ... \u001b[?25l\u001b[?25hdone\n",
            "  Getting requirements to build wheel ... \u001b[?25l\u001b[?25hdone\n",
            "  Preparing metadata (pyproject.toml) ... \u001b[?25l\u001b[?25hdone\n",
            "  Building wheel for torch_geometric (pyproject.toml) ... \u001b[?25l\u001b[?25hdone\n",
            "\u001b[2K     \u001b[90m━━━━━━━━━━━━━━━━━━━━━━━━━━━━━━━━━━━━━━━\u001b[0m \u001b[32m158.4/158.4 kB\u001b[0m \u001b[31m9.6 MB/s\u001b[0m eta \u001b[36m0:00:00\u001b[0m\n",
            "\u001b[2K     \u001b[90m━━━━━━━━━━━━━━━━━━━━━━━━━━━━━━━━━━━━━━━━\u001b[0m \u001b[32m87.9/87.9 kB\u001b[0m \u001b[31m10.6 MB/s\u001b[0m eta \u001b[36m0:00:00\u001b[0m\n",
            "\u001b[2K     \u001b[90m━━━━━━━━━━━━━━━━━━━━━━━━━━━━━━━━━━━━━━\u001b[0m \u001b[32m519.2/519.2 kB\u001b[0m \u001b[31m29.8 MB/s\u001b[0m eta \u001b[36m0:00:00\u001b[0m\n",
            "\u001b[?25h"
          ]
        }
      ]
    },
    {
      "cell_type": "code",
      "source": [],
      "metadata": {
        "id": "9HzwhXA7m_FO"
      },
      "execution_count": null,
      "outputs": []
    },
    {
      "cell_type": "markdown",
      "source": [
        "# Graph"
      ],
      "metadata": {
        "id": "CtEhgPSFjF-0"
      }
    },
    {
      "cell_type": "markdown",
      "source": [
        "## Edges"
      ],
      "metadata": {
        "id": "tfzmskOSjIys"
      }
    },
    {
      "cell_type": "code",
      "execution_count": null,
      "outputs": [
        {
          "output_type": "execute_result",
          "data": {
            "text/plain": [
              "         numeric_id_1  numeric_id_2\n",
              "0               98343        141493\n",
              "1               98343         58736\n",
              "2               98343        140703\n",
              "3               98343        151401\n",
              "4               98343        157118\n",
              "...               ...           ...\n",
              "6797552         97507         29359\n",
              "6797553         71175         12020\n",
              "6797554        151702        128281\n",
              "6797555        118034         38021\n",
              "6797556         27819        153993\n",
              "\n",
              "[6797557 rows x 2 columns]"
            ],
            "text/html": [
              "\n",
              "  <div id=\"df-e3aeabaa-e2f5-49da-84a2-c543e6d93596\">\n",
              "    <div class=\"colab-df-container\">\n",
              "      <div>\n",
              "<style scoped>\n",
              "    .dataframe tbody tr th:only-of-type {\n",
              "        vertical-align: middle;\n",
              "    }\n",
              "\n",
              "    .dataframe tbody tr th {\n",
              "        vertical-align: top;\n",
              "    }\n",
              "\n",
              "    .dataframe thead th {\n",
              "        text-align: right;\n",
              "    }\n",
              "</style>\n",
              "<table border=\"1\" class=\"dataframe\">\n",
              "  <thead>\n",
              "    <tr style=\"text-align: right;\">\n",
              "      <th></th>\n",
              "      <th>numeric_id_1</th>\n",
              "      <th>numeric_id_2</th>\n",
              "    </tr>\n",
              "  </thead>\n",
              "  <tbody>\n",
              "    <tr>\n",
              "      <th>0</th>\n",
              "      <td>98343</td>\n",
              "      <td>141493</td>\n",
              "    </tr>\n",
              "    <tr>\n",
              "      <th>1</th>\n",
              "      <td>98343</td>\n",
              "      <td>58736</td>\n",
              "    </tr>\n",
              "    <tr>\n",
              "      <th>2</th>\n",
              "      <td>98343</td>\n",
              "      <td>140703</td>\n",
              "    </tr>\n",
              "    <tr>\n",
              "      <th>3</th>\n",
              "      <td>98343</td>\n",
              "      <td>151401</td>\n",
              "    </tr>\n",
              "    <tr>\n",
              "      <th>4</th>\n",
              "      <td>98343</td>\n",
              "      <td>157118</td>\n",
              "    </tr>\n",
              "    <tr>\n",
              "      <th>...</th>\n",
              "      <td>...</td>\n",
              "      <td>...</td>\n",
              "    </tr>\n",
              "    <tr>\n",
              "      <th>6797552</th>\n",
              "      <td>97507</td>\n",
              "      <td>29359</td>\n",
              "    </tr>\n",
              "    <tr>\n",
              "      <th>6797553</th>\n",
              "      <td>71175</td>\n",
              "      <td>12020</td>\n",
              "    </tr>\n",
              "    <tr>\n",
              "      <th>6797554</th>\n",
              "      <td>151702</td>\n",
              "      <td>128281</td>\n",
              "    </tr>\n",
              "    <tr>\n",
              "      <th>6797555</th>\n",
              "      <td>118034</td>\n",
              "      <td>38021</td>\n",
              "    </tr>\n",
              "    <tr>\n",
              "      <th>6797556</th>\n",
              "      <td>27819</td>\n",
              "      <td>153993</td>\n",
              "    </tr>\n",
              "  </tbody>\n",
              "</table>\n",
              "<p>6797557 rows × 2 columns</p>\n",
              "</div>\n",
              "      <button class=\"colab-df-convert\" onclick=\"convertToInteractive('df-e3aeabaa-e2f5-49da-84a2-c543e6d93596')\"\n",
              "              title=\"Convert this dataframe to an interactive table.\"\n",
              "              style=\"display:none;\">\n",
              "        \n",
              "  <svg xmlns=\"http://www.w3.org/2000/svg\" height=\"24px\"viewBox=\"0 0 24 24\"\n",
              "       width=\"24px\">\n",
              "    <path d=\"M0 0h24v24H0V0z\" fill=\"none\"/>\n",
              "    <path d=\"M18.56 5.44l.94 2.06.94-2.06 2.06-.94-2.06-.94-.94-2.06-.94 2.06-2.06.94zm-11 1L8.5 8.5l.94-2.06 2.06-.94-2.06-.94L8.5 2.5l-.94 2.06-2.06.94zm10 10l.94 2.06.94-2.06 2.06-.94-2.06-.94-.94-2.06-.94 2.06-2.06.94z\"/><path d=\"M17.41 7.96l-1.37-1.37c-.4-.4-.92-.59-1.43-.59-.52 0-1.04.2-1.43.59L10.3 9.45l-7.72 7.72c-.78.78-.78 2.05 0 2.83L4 21.41c.39.39.9.59 1.41.59.51 0 1.02-.2 1.41-.59l7.78-7.78 2.81-2.81c.8-.78.8-2.07 0-2.86zM5.41 20L4 18.59l7.72-7.72 1.47 1.35L5.41 20z\"/>\n",
              "  </svg>\n",
              "      </button>\n",
              "      \n",
              "  <style>\n",
              "    .colab-df-container {\n",
              "      display:flex;\n",
              "      flex-wrap:wrap;\n",
              "      gap: 12px;\n",
              "    }\n",
              "\n",
              "    .colab-df-convert {\n",
              "      background-color: #E8F0FE;\n",
              "      border: none;\n",
              "      border-radius: 50%;\n",
              "      cursor: pointer;\n",
              "      display: none;\n",
              "      fill: #1967D2;\n",
              "      height: 32px;\n",
              "      padding: 0 0 0 0;\n",
              "      width: 32px;\n",
              "    }\n",
              "\n",
              "    .colab-df-convert:hover {\n",
              "      background-color: #E2EBFA;\n",
              "      box-shadow: 0px 1px 2px rgba(60, 64, 67, 0.3), 0px 1px 3px 1px rgba(60, 64, 67, 0.15);\n",
              "      fill: #174EA6;\n",
              "    }\n",
              "\n",
              "    [theme=dark] .colab-df-convert {\n",
              "      background-color: #3B4455;\n",
              "      fill: #D2E3FC;\n",
              "    }\n",
              "\n",
              "    [theme=dark] .colab-df-convert:hover {\n",
              "      background-color: #434B5C;\n",
              "      box-shadow: 0px 1px 3px 1px rgba(0, 0, 0, 0.15);\n",
              "      filter: drop-shadow(0px 1px 2px rgba(0, 0, 0, 0.3));\n",
              "      fill: #FFFFFF;\n",
              "    }\n",
              "  </style>\n",
              "\n",
              "      <script>\n",
              "        const buttonEl =\n",
              "          document.querySelector('#df-e3aeabaa-e2f5-49da-84a2-c543e6d93596 button.colab-df-convert');\n",
              "        buttonEl.style.display =\n",
              "          google.colab.kernel.accessAllowed ? 'block' : 'none';\n",
              "\n",
              "        async function convertToInteractive(key) {\n",
              "          const element = document.querySelector('#df-e3aeabaa-e2f5-49da-84a2-c543e6d93596');\n",
              "          const dataTable =\n",
              "            await google.colab.kernel.invokeFunction('convertToInteractive',\n",
              "                                                     [key], {});\n",
              "          if (!dataTable) return;\n",
              "\n",
              "          const docLinkHtml = 'Like what you see? Visit the ' +\n",
              "            '<a target=\"_blank\" href=https://colab.research.google.com/notebooks/data_table.ipynb>data table notebook</a>'\n",
              "            + ' to learn more about interactive tables.';\n",
              "          element.innerHTML = '';\n",
              "          dataTable['output_type'] = 'display_data';\n",
              "          await google.colab.output.renderOutput(dataTable, element);\n",
              "          const docLink = document.createElement('div');\n",
              "          docLink.innerHTML = docLinkHtml;\n",
              "          element.appendChild(docLink);\n",
              "        }\n",
              "      </script>\n",
              "    </div>\n",
              "  </div>\n",
              "  "
            ]
          },
          "metadata": {},
          "execution_count": 4
        }
      ],
      "source": [
        "edges = pd.read_csv('/content/drive/MyDrive/TAI/III/gnn/data/twitch_gamers/large_twitch_edges.csv')\n",
        "edges"
      ],
      "metadata": {
        "colab": {
          "base_uri": "https://localhost:8080/",
          "height": 424
        },
        "id": "DvyxQ58p71qe",
        "outputId": "1e7e4e2f-4c99-41ab-cbbd-63eccf28bd12"
      }
    },
    {
      "cell_type": "markdown",
      "source": [
        "## Create graph"
      ],
      "metadata": {
        "id": "-vFTqNVXjLS0"
      }
    },
    {
      "cell_type": "code",
      "source": [
        "G = nx.from_pandas_edgelist(edges, source='numeric_id_1', target='numeric_id_2')\n",
        "print(G)"
      ],
      "metadata": {
        "colab": {
          "base_uri": "https://localhost:8080/"
        },
        "id": "IK650xT3z83-",
        "outputId": "bde8333b-2f60-4497-f0d5-78422163d65e"
      },
      "execution_count": null,
      "outputs": [
        {
          "output_type": "stream",
          "name": "stdout",
          "text": [
            "Graph with 168114 nodes and 6797557 edges\n"
          ]
        }
      ]
    },
    {
      "cell_type": "code",
      "source": [
        "H = G.edge_subgraph(list(G.edges)[:10000])\n",
        "print(H)"
      ],
      "metadata": {
        "colab": {
          "base_uri": "https://localhost:8080/"
        },
        "id": "ckuAT42-ydYA",
        "outputId": "f92a2af7-6793-4165-a8b8-1cfe5d3e73d4"
      },
      "execution_count": null,
      "outputs": [
        {
          "output_type": "stream",
          "name": "stdout",
          "text": [
            "Graph with 8678 nodes and 10000 edges\n"
          ]
        }
      ]
    },
    {
      "cell_type": "code",
      "source": [
        "print(nx.is_connected(H))"
      ],
      "metadata": {
        "colab": {
          "base_uri": "https://localhost:8080/"
        },
        "id": "EWUJ01h62RVU",
        "outputId": "b60be89c-2cf0-421f-ae63-acfd6f6a0374"
      },
      "execution_count": null,
      "outputs": [
        {
          "output_type": "stream",
          "name": "stdout",
          "text": [
            "True\n"
          ]
        }
      ]
    },
    {
      "cell_type": "code",
      "source": [
        "plt.figure(figsize=(9, 7))\n",
        "nx.draw_spring(H, node_size=30, arrows=False)\n",
        "plt.show()"
      ],
      "metadata": {
        "id": "wsGmhhVN3Z5x"
      },
      "execution_count": null,
      "outputs": []
    },
    {
      "cell_type": "markdown",
      "source": [
        "### Degree embeddings"
      ],
      "metadata": {
        "id": "w-zMnES0jQwt"
      }
    },
    {
      "cell_type": "code",
      "source": [
        "from sklearn.preprocessing import StandardScaler, MinMaxScaler\n",
        "import torch\n",
        "\n",
        "# using degree as embedding\n",
        "embeddings = np.array(list(dict(H.degree()).values()))\n",
        "\n",
        "# normalizing degree values\n",
        "scale = MinMaxScaler()\n",
        "embeddings = scale.fit_transform(embeddings.reshape(-1,1))"
      ],
      "metadata": {
        "id": "lJljXCEF7IgX"
      },
      "execution_count": null,
      "outputs": []
    },
    {
      "cell_type": "markdown",
      "source": [
        "# Word2Vec\n"
      ],
      "metadata": {
        "id": "owj1LunNxRBq"
      }
    },
    {
      "cell_type": "code",
      "source": [
        "# !pip install word2vec\n",
        "!pip install -q node2vec"
      ],
      "metadata": {
        "id": "1FfFcab7qHcD",
        "colab": {
          "base_uri": "https://localhost:8080/"
        },
        "outputId": "26e9de01-72ba-4f68-81b5-2f5fe7719de8"
      },
      "execution_count": null,
      "outputs": [
        {
          "output_type": "stream",
          "name": "stdout",
          "text": [
            "\u001b[?25l     \u001b[90m━━━━━━━━━━━━━━━━━━━━━━━━━━━━━━━━━━━━━━━━\u001b[0m \u001b[32m0.0/2.0 MB\u001b[0m \u001b[31m?\u001b[0m eta \u001b[36m-:--:--\u001b[0m\r\u001b[2K     \u001b[90m━━━━━━━━━━━━━━━━━━━━━━━━━━━━━━━━━━━━━━━━\u001b[0m \u001b[32m2.0/2.0 MB\u001b[0m \u001b[31m68.3 MB/s\u001b[0m eta \u001b[36m0:00:00\u001b[0m\n",
            "\u001b[?25h"
          ]
        }
      ]
    },
    {
      "cell_type": "code",
      "source": [
        "from node2vec import Node2Vec\n",
        "node2vec = Node2Vec(H, dimensions=128, walk_length=40, num_walks=5, workers=2)"
      ],
      "metadata": {
        "colab": {
          "base_uri": "https://localhost:8080/",
          "height": 49,
          "referenced_widgets": [
            "06af216269e641beaec940dfcaf549fa",
            "a5f8d465f5794df493048afcd7b12875",
            "20a56de743ed448682ebb76ce834c631",
            "d3c9d1193ee3443186912bbac1a2965e",
            "4c87964622374f93b5457750ce8ef655",
            "6aa34b680a794e26a37048a5be3186bd",
            "6b6e2558e8944510a94fea6487bf40c3",
            "c2d2bc4bf3a84f9ca2de0907b8feb2a4",
            "8fb8d770682f49a98380eb479355c466",
            "b789ed806fb244fd89c5b40851203e68",
            "c15212679b764f708feb40a3e94a56c7"
          ]
        },
        "id": "IsAWqSQl8LUl",
        "outputId": "04d6b04f-a62d-444b-a5de-ad52a7648d6c"
      },
      "execution_count": null,
      "outputs": [
        {
          "output_type": "display_data",
          "data": {
            "text/plain": [
              "Computing transition probabilities:   0%|          | 0/8678 [00:00<?, ?it/s]"
            ],
            "application/vnd.jupyter.widget-view+json": {
              "version_major": 2,
              "version_minor": 0,
              "model_id": "06af216269e641beaec940dfcaf549fa"
            }
          },
          "metadata": {}
        }
      ]
    },
    {
      "cell_type": "code",
      "source": [
        "model = node2vec.fit(window=10, min_count=1)"
      ],
      "metadata": {
        "id": "T2rXrtr98mLq"
      },
      "execution_count": null,
      "outputs": []
    },
    {
      "cell_type": "code",
      "source": [
        "model.save('/content/drive/MyDrive/TAI/III/gnn/data/twitch_gamers/node2vec')"
      ],
      "metadata": {
        "id": "30ywLehDrQNi"
      },
      "execution_count": null,
      "outputs": []
    },
    {
      "cell_type": "code",
      "source": [
        "from sklearn.decomposition import PCA\n",
        "import matplotlib.pyplot as plt\n",
        "\n",
        "def plot_nodes(word_list):\n",
        "    X = model.wv[word_list]\n",
        "\n",
        "    # reduce dimensions to 2\n",
        "    pca = PCA(n_components=2)\n",
        "    result = pca.fit_transform(X)\n",
        "\n",
        "\n",
        "    plt.figure(figsize=(12,9))\n",
        "    # create a scatter plot of the projection\n",
        "    plt.scatter(result[:, 0], result[:, 1])\n",
        "    for i, word in enumerate(word_list):\n",
        "        plt.annotate(word, xy=(result[i, 0], result[i, 1]))\n",
        "\n",
        "    plt.show()"
      ],
      "metadata": {
        "id": "dLMKuXaqqHEc"
      },
      "execution_count": null,
      "outputs": []
    },
    {
      "cell_type": "code",
      "source": [
        "numbers = list(H.nodes)[:60]\n",
        "plot_nodes(numbers)"
      ],
      "metadata": {
        "id": "g8kh1cNtqG4Q"
      },
      "execution_count": null,
      "outputs": []
    },
    {
      "cell_type": "code",
      "source": [
        "model.wv.get_vector(0)"
      ],
      "metadata": {
        "colab": {
          "base_uri": "https://localhost:8080/"
        },
        "id": "PdumDHvSsCmQ",
        "outputId": "5a232e90-b969-46a7-adc7-d521dbe34606"
      },
      "execution_count": null,
      "outputs": [
        {
          "output_type": "execute_result",
          "data": {
            "text/plain": [
              "array([ 1.73281014e-01,  1.71235234e-01,  5.70116900e-02,  1.25086203e-01,\n",
              "        9.40688923e-02, -3.25244159e-01,  4.95700212e-03,  1.94141597e-01,\n",
              "       -2.15381593e-01, -4.47219424e-02,  1.87685236e-01,  9.40700397e-02,\n",
              "       -5.13813039e-03, -1.04459720e-02, -2.51893133e-01,  8.75870064e-02,\n",
              "        7.72628561e-02, -1.08824363e-02, -2.38164842e-01, -8.83450091e-04,\n",
              "        3.86222482e-01, -7.70009086e-02,  1.00703724e-01, -4.29344118e-01,\n",
              "        2.93270666e-02, -6.83415756e-02, -1.49982855e-01,  1.21750645e-01,\n",
              "       -1.08138084e-01, -1.81858405e-01,  9.78167579e-02,  6.32366687e-02,\n",
              "       -2.04805344e-01,  1.24090672e-01, -1.07999548e-01,  1.83443520e-02,\n",
              "        2.19651908e-01, -1.75760195e-01,  3.20103653e-02, -1.04205444e-01,\n",
              "        4.09807414e-02,  1.28762051e-01, -2.04710439e-02, -2.25136593e-01,\n",
              "        2.06501171e-01,  3.88169312e-03, -2.07684934e-01,  1.20459616e-01,\n",
              "       -4.27862480e-02,  6.31695911e-02, -1.51560634e-01, -2.78858170e-02,\n",
              "        7.10882545e-02,  1.53156653e-01,  1.03991076e-01, -1.01519175e-01,\n",
              "        1.23816334e-01, -3.81658114e-02,  1.23521611e-01,  7.93679580e-02,\n",
              "       -9.04733241e-02,  1.98176652e-02, -8.92636478e-02, -1.37293175e-01,\n",
              "        7.24286810e-02,  6.06551245e-02, -4.09022421e-02,  1.22553259e-01,\n",
              "        4.70219366e-02,  2.16874987e-01, -1.91320777e-02, -1.87434077e-01,\n",
              "       -1.36516795e-01, -9.67000797e-03,  9.53569859e-02, -1.49334386e-01,\n",
              "        2.75591630e-02, -7.63663575e-02, -2.36906871e-01, -1.38839737e-01,\n",
              "       -3.27578306e-01,  5.68789579e-02, -2.59967372e-02, -5.70314713e-02,\n",
              "        6.99443072e-02,  5.52420281e-02,  1.80755168e-01, -2.28211135e-01,\n",
              "        5.72250336e-02,  2.45411530e-01,  5.83819710e-02, -3.42779271e-02,\n",
              "       -3.29827070e-02, -3.34784128e-02,  7.52310641e-03,  1.91651464e-01,\n",
              "       -1.52850091e-01, -1.14535570e-01,  2.24219754e-01,  2.17642635e-01,\n",
              "       -1.40158787e-01,  2.41014570e-01,  1.65222198e-01,  1.02775089e-01,\n",
              "        1.45887449e-01, -3.59613411e-02, -4.06560898e-02,  1.10372640e-01,\n",
              "       -1.01297691e-01, -1.05464421e-01,  2.11381856e-02,  4.48955856e-02,\n",
              "       -1.79094493e-01, -5.16987443e-02,  2.79781938e-01, -3.07570444e-04,\n",
              "        3.36619347e-01,  8.09606761e-02,  1.21079624e-01, -1.91450138e-02,\n",
              "       -6.21061139e-02,  5.04308492e-02,  1.70117095e-02, -3.40242870e-02,\n",
              "        2.46921387e-02, -1.51787564e-01,  1.24744870e-01,  8.29997212e-02],\n",
              "      dtype=float32)"
            ]
          },
          "metadata": {},
          "execution_count": 27
        }
      ]
    },
    {
      "cell_type": "code",
      "source": [
        "words = list(w for w in model.wv.index_to_key)"
      ],
      "metadata": {
        "id": "BAkxVH3MtxGH"
      },
      "execution_count": null,
      "outputs": []
    },
    {
      "cell_type": "code",
      "source": [
        "len(words)\n"
      ],
      "metadata": {
        "colab": {
          "base_uri": "https://localhost:8080/"
        },
        "id": "64e5rxAuuqVq",
        "outputId": "0ebeafcf-4b68-471c-ba79-a925f1865656"
      },
      "execution_count": null,
      "outputs": [
        {
          "output_type": "execute_result",
          "data": {
            "text/plain": [
              "8678"
            ]
          },
          "metadata": {},
          "execution_count": 39
        }
      ]
    },
    {
      "cell_type": "code",
      "source": [
        "n2v_embeddings = pd.DataFrame(model.wv.vectors, index=words)\n",
        "n2v_embeddings"
      ],
      "metadata": {
        "colab": {
          "base_uri": "https://localhost:8080/",
          "height": 488
        },
        "id": "vD-yXnFaxubY",
        "outputId": "2bb1482d-6257-48a9-814f-fd116b81d8c2"
      },
      "execution_count": null,
      "outputs": [
        {
          "output_type": "execute_result",
          "data": {
            "text/plain": [
              "             0         1         2         3         4         5         6    \\\n",
              "141493  0.173281  0.171235  0.057012  0.125086  0.094069 -0.325244  0.004957   \n",
              "116648 -0.120358  0.314686  0.152845 -0.083105 -0.060703 -0.100719  0.040346   \n",
              "125430 -0.186884 -0.400275  0.128582 -0.256730  0.143213 -0.220536  0.303987   \n",
              "3635   -0.155430 -0.319745  0.344132  0.298644  0.012237 -0.523516 -0.385866   \n",
              "58736  -0.012297 -0.557820  0.079286 -0.353544 -0.075154 -0.281478 -0.285753   \n",
              "...          ...       ...       ...       ...       ...       ...       ...   \n",
              "135859  0.061583 -0.313215  0.300760 -0.081361  0.415540 -0.033220 -0.310866   \n",
              "89574   0.004667 -0.485985  0.090455 -0.305042 -0.166455 -0.299770 -0.297472   \n",
              "55524   0.141984 -0.308783  0.295159  0.074422  0.439983 -0.143848 -0.243821   \n",
              "25634   0.060242 -0.166870  0.316707 -0.096314  0.409777  0.082441 -0.133928   \n",
              "130218  0.089381 -0.263578  0.334961 -0.000810  0.406443 -0.029580 -0.235913   \n",
              "\n",
              "             7         8         9    ...       118       119       120  \\\n",
              "141493  0.194142 -0.215382 -0.044722  ...  0.121080 -0.019145 -0.062106   \n",
              "116648  0.035818  0.076773  0.154103  ... -0.039104 -0.217580 -0.066853   \n",
              "125430  0.064911  0.001066  0.262726  ...  0.179421 -0.096897  0.034014   \n",
              "3635    0.056216  0.172886 -0.098504  ...  0.202368 -0.273477 -0.421835   \n",
              "58736  -0.027000 -0.089709  0.029142  ...  0.349872  0.235082 -0.025273   \n",
              "...          ...       ...       ...  ...       ...       ...       ...   \n",
              "135859 -0.038409 -0.104245 -0.148407  ...  0.277072  0.022152  0.048363   \n",
              "89574  -0.015510 -0.170049  0.014545  ...  0.272217  0.184914 -0.035722   \n",
              "55524  -0.052712 -0.274603 -0.222357  ...  0.286882  0.070363  0.135214   \n",
              "25634  -0.056733 -0.070828 -0.051065  ...  0.246664 -0.091175  0.096193   \n",
              "130218 -0.055439 -0.185767 -0.156889  ...  0.298243 -0.041264  0.088258   \n",
              "\n",
              "             121       122       123       124       125       126       127  \n",
              "141493  0.050431  0.017012 -0.034024  0.024692 -0.151788  0.124745  0.083000  \n",
              "116648 -0.061279 -0.000059 -0.008355 -0.126021 -0.212978 -0.223324  0.007652  \n",
              "125430  0.318441 -0.125502 -0.171268  0.030039  0.145556 -0.108212  0.203913  \n",
              "3635    0.245115  0.090214 -0.055136 -0.130665 -0.456881 -0.064575  0.048775  \n",
              "58736   0.349426 -0.110621  0.055165 -0.210518 -0.503350 -0.139584 -0.096643  \n",
              "...          ...       ...       ...       ...       ...       ...       ...  \n",
              "135859  0.165429 -0.209660  0.305747  0.102897 -0.262809 -0.029506  0.471887  \n",
              "89574   0.354426 -0.059400  0.037007 -0.118513 -0.500462  0.054906 -0.013527  \n",
              "55524   0.173284 -0.217593  0.196579  0.073981 -0.279072 -0.076684  0.609635  \n",
              "25634   0.165873 -0.162126  0.220993  0.078076 -0.074451 -0.088107  0.504349  \n",
              "130218  0.139206 -0.177030  0.246308  0.056944 -0.273511 -0.127412  0.544561  \n",
              "\n",
              "[8678 rows x 128 columns]"
            ],
            "text/html": [
              "\n",
              "  <div id=\"df-9f7e81c8-f5b3-4fc5-9b5d-5682b0fc77da\">\n",
              "    <div class=\"colab-df-container\">\n",
              "      <div>\n",
              "<style scoped>\n",
              "    .dataframe tbody tr th:only-of-type {\n",
              "        vertical-align: middle;\n",
              "    }\n",
              "\n",
              "    .dataframe tbody tr th {\n",
              "        vertical-align: top;\n",
              "    }\n",
              "\n",
              "    .dataframe thead th {\n",
              "        text-align: right;\n",
              "    }\n",
              "</style>\n",
              "<table border=\"1\" class=\"dataframe\">\n",
              "  <thead>\n",
              "    <tr style=\"text-align: right;\">\n",
              "      <th></th>\n",
              "      <th>0</th>\n",
              "      <th>1</th>\n",
              "      <th>2</th>\n",
              "      <th>3</th>\n",
              "      <th>4</th>\n",
              "      <th>5</th>\n",
              "      <th>6</th>\n",
              "      <th>7</th>\n",
              "      <th>8</th>\n",
              "      <th>9</th>\n",
              "      <th>...</th>\n",
              "      <th>118</th>\n",
              "      <th>119</th>\n",
              "      <th>120</th>\n",
              "      <th>121</th>\n",
              "      <th>122</th>\n",
              "      <th>123</th>\n",
              "      <th>124</th>\n",
              "      <th>125</th>\n",
              "      <th>126</th>\n",
              "      <th>127</th>\n",
              "    </tr>\n",
              "  </thead>\n",
              "  <tbody>\n",
              "    <tr>\n",
              "      <th>141493</th>\n",
              "      <td>0.173281</td>\n",
              "      <td>0.171235</td>\n",
              "      <td>0.057012</td>\n",
              "      <td>0.125086</td>\n",
              "      <td>0.094069</td>\n",
              "      <td>-0.325244</td>\n",
              "      <td>0.004957</td>\n",
              "      <td>0.194142</td>\n",
              "      <td>-0.215382</td>\n",
              "      <td>-0.044722</td>\n",
              "      <td>...</td>\n",
              "      <td>0.121080</td>\n",
              "      <td>-0.019145</td>\n",
              "      <td>-0.062106</td>\n",
              "      <td>0.050431</td>\n",
              "      <td>0.017012</td>\n",
              "      <td>-0.034024</td>\n",
              "      <td>0.024692</td>\n",
              "      <td>-0.151788</td>\n",
              "      <td>0.124745</td>\n",
              "      <td>0.083000</td>\n",
              "    </tr>\n",
              "    <tr>\n",
              "      <th>116648</th>\n",
              "      <td>-0.120358</td>\n",
              "      <td>0.314686</td>\n",
              "      <td>0.152845</td>\n",
              "      <td>-0.083105</td>\n",
              "      <td>-0.060703</td>\n",
              "      <td>-0.100719</td>\n",
              "      <td>0.040346</td>\n",
              "      <td>0.035818</td>\n",
              "      <td>0.076773</td>\n",
              "      <td>0.154103</td>\n",
              "      <td>...</td>\n",
              "      <td>-0.039104</td>\n",
              "      <td>-0.217580</td>\n",
              "      <td>-0.066853</td>\n",
              "      <td>-0.061279</td>\n",
              "      <td>-0.000059</td>\n",
              "      <td>-0.008355</td>\n",
              "      <td>-0.126021</td>\n",
              "      <td>-0.212978</td>\n",
              "      <td>-0.223324</td>\n",
              "      <td>0.007652</td>\n",
              "    </tr>\n",
              "    <tr>\n",
              "      <th>125430</th>\n",
              "      <td>-0.186884</td>\n",
              "      <td>-0.400275</td>\n",
              "      <td>0.128582</td>\n",
              "      <td>-0.256730</td>\n",
              "      <td>0.143213</td>\n",
              "      <td>-0.220536</td>\n",
              "      <td>0.303987</td>\n",
              "      <td>0.064911</td>\n",
              "      <td>0.001066</td>\n",
              "      <td>0.262726</td>\n",
              "      <td>...</td>\n",
              "      <td>0.179421</td>\n",
              "      <td>-0.096897</td>\n",
              "      <td>0.034014</td>\n",
              "      <td>0.318441</td>\n",
              "      <td>-0.125502</td>\n",
              "      <td>-0.171268</td>\n",
              "      <td>0.030039</td>\n",
              "      <td>0.145556</td>\n",
              "      <td>-0.108212</td>\n",
              "      <td>0.203913</td>\n",
              "    </tr>\n",
              "    <tr>\n",
              "      <th>3635</th>\n",
              "      <td>-0.155430</td>\n",
              "      <td>-0.319745</td>\n",
              "      <td>0.344132</td>\n",
              "      <td>0.298644</td>\n",
              "      <td>0.012237</td>\n",
              "      <td>-0.523516</td>\n",
              "      <td>-0.385866</td>\n",
              "      <td>0.056216</td>\n",
              "      <td>0.172886</td>\n",
              "      <td>-0.098504</td>\n",
              "      <td>...</td>\n",
              "      <td>0.202368</td>\n",
              "      <td>-0.273477</td>\n",
              "      <td>-0.421835</td>\n",
              "      <td>0.245115</td>\n",
              "      <td>0.090214</td>\n",
              "      <td>-0.055136</td>\n",
              "      <td>-0.130665</td>\n",
              "      <td>-0.456881</td>\n",
              "      <td>-0.064575</td>\n",
              "      <td>0.048775</td>\n",
              "    </tr>\n",
              "    <tr>\n",
              "      <th>58736</th>\n",
              "      <td>-0.012297</td>\n",
              "      <td>-0.557820</td>\n",
              "      <td>0.079286</td>\n",
              "      <td>-0.353544</td>\n",
              "      <td>-0.075154</td>\n",
              "      <td>-0.281478</td>\n",
              "      <td>-0.285753</td>\n",
              "      <td>-0.027000</td>\n",
              "      <td>-0.089709</td>\n",
              "      <td>0.029142</td>\n",
              "      <td>...</td>\n",
              "      <td>0.349872</td>\n",
              "      <td>0.235082</td>\n",
              "      <td>-0.025273</td>\n",
              "      <td>0.349426</td>\n",
              "      <td>-0.110621</td>\n",
              "      <td>0.055165</td>\n",
              "      <td>-0.210518</td>\n",
              "      <td>-0.503350</td>\n",
              "      <td>-0.139584</td>\n",
              "      <td>-0.096643</td>\n",
              "    </tr>\n",
              "    <tr>\n",
              "      <th>...</th>\n",
              "      <td>...</td>\n",
              "      <td>...</td>\n",
              "      <td>...</td>\n",
              "      <td>...</td>\n",
              "      <td>...</td>\n",
              "      <td>...</td>\n",
              "      <td>...</td>\n",
              "      <td>...</td>\n",
              "      <td>...</td>\n",
              "      <td>...</td>\n",
              "      <td>...</td>\n",
              "      <td>...</td>\n",
              "      <td>...</td>\n",
              "      <td>...</td>\n",
              "      <td>...</td>\n",
              "      <td>...</td>\n",
              "      <td>...</td>\n",
              "      <td>...</td>\n",
              "      <td>...</td>\n",
              "      <td>...</td>\n",
              "      <td>...</td>\n",
              "    </tr>\n",
              "    <tr>\n",
              "      <th>135859</th>\n",
              "      <td>0.061583</td>\n",
              "      <td>-0.313215</td>\n",
              "      <td>0.300760</td>\n",
              "      <td>-0.081361</td>\n",
              "      <td>0.415540</td>\n",
              "      <td>-0.033220</td>\n",
              "      <td>-0.310866</td>\n",
              "      <td>-0.038409</td>\n",
              "      <td>-0.104245</td>\n",
              "      <td>-0.148407</td>\n",
              "      <td>...</td>\n",
              "      <td>0.277072</td>\n",
              "      <td>0.022152</td>\n",
              "      <td>0.048363</td>\n",
              "      <td>0.165429</td>\n",
              "      <td>-0.209660</td>\n",
              "      <td>0.305747</td>\n",
              "      <td>0.102897</td>\n",
              "      <td>-0.262809</td>\n",
              "      <td>-0.029506</td>\n",
              "      <td>0.471887</td>\n",
              "    </tr>\n",
              "    <tr>\n",
              "      <th>89574</th>\n",
              "      <td>0.004667</td>\n",
              "      <td>-0.485985</td>\n",
              "      <td>0.090455</td>\n",
              "      <td>-0.305042</td>\n",
              "      <td>-0.166455</td>\n",
              "      <td>-0.299770</td>\n",
              "      <td>-0.297472</td>\n",
              "      <td>-0.015510</td>\n",
              "      <td>-0.170049</td>\n",
              "      <td>0.014545</td>\n",
              "      <td>...</td>\n",
              "      <td>0.272217</td>\n",
              "      <td>0.184914</td>\n",
              "      <td>-0.035722</td>\n",
              "      <td>0.354426</td>\n",
              "      <td>-0.059400</td>\n",
              "      <td>0.037007</td>\n",
              "      <td>-0.118513</td>\n",
              "      <td>-0.500462</td>\n",
              "      <td>0.054906</td>\n",
              "      <td>-0.013527</td>\n",
              "    </tr>\n",
              "    <tr>\n",
              "      <th>55524</th>\n",
              "      <td>0.141984</td>\n",
              "      <td>-0.308783</td>\n",
              "      <td>0.295159</td>\n",
              "      <td>0.074422</td>\n",
              "      <td>0.439983</td>\n",
              "      <td>-0.143848</td>\n",
              "      <td>-0.243821</td>\n",
              "      <td>-0.052712</td>\n",
              "      <td>-0.274603</td>\n",
              "      <td>-0.222357</td>\n",
              "      <td>...</td>\n",
              "      <td>0.286882</td>\n",
              "      <td>0.070363</td>\n",
              "      <td>0.135214</td>\n",
              "      <td>0.173284</td>\n",
              "      <td>-0.217593</td>\n",
              "      <td>0.196579</td>\n",
              "      <td>0.073981</td>\n",
              "      <td>-0.279072</td>\n",
              "      <td>-0.076684</td>\n",
              "      <td>0.609635</td>\n",
              "    </tr>\n",
              "    <tr>\n",
              "      <th>25634</th>\n",
              "      <td>0.060242</td>\n",
              "      <td>-0.166870</td>\n",
              "      <td>0.316707</td>\n",
              "      <td>-0.096314</td>\n",
              "      <td>0.409777</td>\n",
              "      <td>0.082441</td>\n",
              "      <td>-0.133928</td>\n",
              "      <td>-0.056733</td>\n",
              "      <td>-0.070828</td>\n",
              "      <td>-0.051065</td>\n",
              "      <td>...</td>\n",
              "      <td>0.246664</td>\n",
              "      <td>-0.091175</td>\n",
              "      <td>0.096193</td>\n",
              "      <td>0.165873</td>\n",
              "      <td>-0.162126</td>\n",
              "      <td>0.220993</td>\n",
              "      <td>0.078076</td>\n",
              "      <td>-0.074451</td>\n",
              "      <td>-0.088107</td>\n",
              "      <td>0.504349</td>\n",
              "    </tr>\n",
              "    <tr>\n",
              "      <th>130218</th>\n",
              "      <td>0.089381</td>\n",
              "      <td>-0.263578</td>\n",
              "      <td>0.334961</td>\n",
              "      <td>-0.000810</td>\n",
              "      <td>0.406443</td>\n",
              "      <td>-0.029580</td>\n",
              "      <td>-0.235913</td>\n",
              "      <td>-0.055439</td>\n",
              "      <td>-0.185767</td>\n",
              "      <td>-0.156889</td>\n",
              "      <td>...</td>\n",
              "      <td>0.298243</td>\n",
              "      <td>-0.041264</td>\n",
              "      <td>0.088258</td>\n",
              "      <td>0.139206</td>\n",
              "      <td>-0.177030</td>\n",
              "      <td>0.246308</td>\n",
              "      <td>0.056944</td>\n",
              "      <td>-0.273511</td>\n",
              "      <td>-0.127412</td>\n",
              "      <td>0.544561</td>\n",
              "    </tr>\n",
              "  </tbody>\n",
              "</table>\n",
              "<p>8678 rows × 128 columns</p>\n",
              "</div>\n",
              "      <button class=\"colab-df-convert\" onclick=\"convertToInteractive('df-9f7e81c8-f5b3-4fc5-9b5d-5682b0fc77da')\"\n",
              "              title=\"Convert this dataframe to an interactive table.\"\n",
              "              style=\"display:none;\">\n",
              "        \n",
              "  <svg xmlns=\"http://www.w3.org/2000/svg\" height=\"24px\"viewBox=\"0 0 24 24\"\n",
              "       width=\"24px\">\n",
              "    <path d=\"M0 0h24v24H0V0z\" fill=\"none\"/>\n",
              "    <path d=\"M18.56 5.44l.94 2.06.94-2.06 2.06-.94-2.06-.94-.94-2.06-.94 2.06-2.06.94zm-11 1L8.5 8.5l.94-2.06 2.06-.94-2.06-.94L8.5 2.5l-.94 2.06-2.06.94zm10 10l.94 2.06.94-2.06 2.06-.94-2.06-.94-.94-2.06-.94 2.06-2.06.94z\"/><path d=\"M17.41 7.96l-1.37-1.37c-.4-.4-.92-.59-1.43-.59-.52 0-1.04.2-1.43.59L10.3 9.45l-7.72 7.72c-.78.78-.78 2.05 0 2.83L4 21.41c.39.39.9.59 1.41.59.51 0 1.02-.2 1.41-.59l7.78-7.78 2.81-2.81c.8-.78.8-2.07 0-2.86zM5.41 20L4 18.59l7.72-7.72 1.47 1.35L5.41 20z\"/>\n",
              "  </svg>\n",
              "      </button>\n",
              "      \n",
              "  <style>\n",
              "    .colab-df-container {\n",
              "      display:flex;\n",
              "      flex-wrap:wrap;\n",
              "      gap: 12px;\n",
              "    }\n",
              "\n",
              "    .colab-df-convert {\n",
              "      background-color: #E8F0FE;\n",
              "      border: none;\n",
              "      border-radius: 50%;\n",
              "      cursor: pointer;\n",
              "      display: none;\n",
              "      fill: #1967D2;\n",
              "      height: 32px;\n",
              "      padding: 0 0 0 0;\n",
              "      width: 32px;\n",
              "    }\n",
              "\n",
              "    .colab-df-convert:hover {\n",
              "      background-color: #E2EBFA;\n",
              "      box-shadow: 0px 1px 2px rgba(60, 64, 67, 0.3), 0px 1px 3px 1px rgba(60, 64, 67, 0.15);\n",
              "      fill: #174EA6;\n",
              "    }\n",
              "\n",
              "    [theme=dark] .colab-df-convert {\n",
              "      background-color: #3B4455;\n",
              "      fill: #D2E3FC;\n",
              "    }\n",
              "\n",
              "    [theme=dark] .colab-df-convert:hover {\n",
              "      background-color: #434B5C;\n",
              "      box-shadow: 0px 1px 3px 1px rgba(0, 0, 0, 0.15);\n",
              "      filter: drop-shadow(0px 1px 2px rgba(0, 0, 0, 0.3));\n",
              "      fill: #FFFFFF;\n",
              "    }\n",
              "  </style>\n",
              "\n",
              "      <script>\n",
              "        const buttonEl =\n",
              "          document.querySelector('#df-9f7e81c8-f5b3-4fc5-9b5d-5682b0fc77da button.colab-df-convert');\n",
              "        buttonEl.style.display =\n",
              "          google.colab.kernel.accessAllowed ? 'block' : 'none';\n",
              "\n",
              "        async function convertToInteractive(key) {\n",
              "          const element = document.querySelector('#df-9f7e81c8-f5b3-4fc5-9b5d-5682b0fc77da');\n",
              "          const dataTable =\n",
              "            await google.colab.kernel.invokeFunction('convertToInteractive',\n",
              "                                                     [key], {});\n",
              "          if (!dataTable) return;\n",
              "\n",
              "          const docLinkHtml = 'Like what you see? Visit the ' +\n",
              "            '<a target=\"_blank\" href=https://colab.research.google.com/notebooks/data_table.ipynb>data table notebook</a>'\n",
              "            + ' to learn more about interactive tables.';\n",
              "          element.innerHTML = '';\n",
              "          dataTable['output_type'] = 'display_data';\n",
              "          await google.colab.output.renderOutput(dataTable, element);\n",
              "          const docLink = document.createElement('div');\n",
              "          docLink.innerHTML = docLinkHtml;\n",
              "          element.appendChild(docLink);\n",
              "        }\n",
              "      </script>\n",
              "    </div>\n",
              "  </div>\n",
              "  "
            ]
          },
          "metadata": {},
          "execution_count": 41
        }
      ]
    },
    {
      "cell_type": "code",
      "source": [],
      "metadata": {
        "id": "8pkZsMoZxQZA"
      },
      "execution_count": null,
      "outputs": []
    },
    {
      "cell_type": "markdown",
      "source": [
        "## Nodes"
      ],
      "metadata": {
        "id": "yYAheYyZjOB9"
      }
    },
    {
      "cell_type": "code",
      "execution_count": null,
      "outputs": [
        {
          "output_type": "stream",
          "name": "stdout",
          "text": [
            "<class 'pandas.core.frame.DataFrame'>\n",
            "RangeIndex: 168114 entries, 0 to 168113\n",
            "Data columns (total 9 columns):\n",
            " #   Column        Non-Null Count   Dtype \n",
            "---  ------        --------------   ----- \n",
            " 0   views         168114 non-null  int64 \n",
            " 1   mature        168114 non-null  int64 \n",
            " 2   life_time     168114 non-null  int64 \n",
            " 3   created_at    168114 non-null  object\n",
            " 4   updated_at    168114 non-null  object\n",
            " 5   numeric_id    168114 non-null  int64 \n",
            " 6   dead_account  168114 non-null  int64 \n",
            " 7   language      168114 non-null  object\n",
            " 8   affiliate     168114 non-null  int64 \n",
            "dtypes: int64(6), object(3)\n",
            "memory usage: 11.5+ MB\n"
          ]
        }
      ],
      "source": [
        "nodes = pd.read_csv('/content/drive/MyDrive/TAI/III/gnn/data/twitch_gamers/large_twitch_features.csv')\n",
        "nodes.info()"
      ],
      "metadata": {
        "colab": {
          "base_uri": "https://localhost:8080/"
        },
        "id": "gv245Uxf71qg",
        "outputId": "278663c3-8334-45c4-811b-3a4fcab24c4e"
      }
    },
    {
      "cell_type": "markdown",
      "source": [
        "### Create features"
      ],
      "metadata": {
        "id": "x8ZGOl2kjV9k"
      }
    },
    {
      "cell_type": "code",
      "execution_count": null,
      "outputs": [],
      "source": [
        "nodes.created_at = pd.to_datetime(nodes.created_at)\n",
        "nodes.updated_at = pd.to_datetime(nodes.updated_at)\n",
        "nodes['created_at_year'] = nodes['created_at'].dt.year\n",
        "nodes['created_at_month'] = nodes['created_at'].dt.month\n",
        "nodes['created_at_day'] = nodes['created_at'].dt.day\n",
        "nodes['updated_at_year'] = nodes['updated_at'].dt.year\n",
        "nodes['updated_at_month'] = nodes['updated_at'].dt.month\n",
        "nodes['updated_at_day'] = nodes['updated_at'].dt.day\n",
        "nodes = pd.get_dummies(nodes, columns=['language'])\n",
        "nodes = nodes.drop(columns=['created_at', 'updated_at'])\n",
        "\n",
        "\n",
        "# nodes[\"embeddings\"] = embeddings"
      ],
      "metadata": {
        "id": "kSazXwp571qj"
      }
    },
    {
      "cell_type": "markdown",
      "source": [
        "## Normalization"
      ],
      "metadata": {
        "collapsed": false,
        "id": "FOQtumGC71qk"
      }
    },
    {
      "cell_type": "markdown",
      "source": [
        "MinMax Normalization"
      ],
      "metadata": {
        "collapsed": false,
        "id": "PBV4chfHzQND"
      }
    },
    {
      "cell_type": "code",
      "source": [
        "from sklearn.preprocessing import StandardScaler, MinMaxScaler\n",
        "import torch"
      ],
      "metadata": {
        "id": "WXP-LA3bTLPH"
      },
      "execution_count": null,
      "outputs": []
    },
    {
      "cell_type": "code",
      "source": [
        "# normalizing degree values\n",
        "scale = MinMaxScaler()\n",
        "nodes['views'] = scale.fit_transform(nodes['views'].values.reshape(-1,1))\n",
        "nodes['life_time'] = scale.fit_transform(nodes['life_time'].values.reshape(-1,1))\n",
        "nodes['created_at_year'] = scale.fit_transform(nodes['created_at_year'].values.reshape(-1,1))\n",
        "nodes['updated_at_year'] = scale.fit_transform(nodes['updated_at_year'].values.reshape(-1,1))\n",
        "nodes['created_at_month'] = scale.fit_transform(nodes['created_at_month'].values.reshape(-1,1))\n",
        "nodes['updated_at_month'] = scale.fit_transform(nodes['updated_at_month'].values.reshape(-1,1))\n",
        "nodes['created_at_day'] = scale.fit_transform(nodes['created_at_day'].values.reshape(-1,1))\n",
        "nodes['updated_at_day'] = scale.fit_transform(nodes['updated_at_day'].values.reshape(-1,1))"
      ],
      "metadata": {
        "id": "t5hXknMETPRu"
      },
      "execution_count": null,
      "outputs": []
    },
    {
      "cell_type": "markdown",
      "source": [
        "## Set index"
      ],
      "metadata": {
        "id": "_xKHI5IajcYF"
      }
    },
    {
      "cell_type": "code",
      "execution_count": null,
      "outputs": [],
      "source": [
        "nodes = nodes.set_index(['numeric_id'])"
      ],
      "metadata": {
        "id": "Fqor5bkG71qp"
      }
    },
    {
      "cell_type": "markdown",
      "source": [
        "## Final nodes dataframe"
      ],
      "metadata": {
        "id": "yggp5Hd9jeqi"
      }
    },
    {
      "cell_type": "code",
      "execution_count": null,
      "outputs": [
        {
          "output_type": "execute_result",
          "data": {
            "text/plain": [
              "               views  mature  life_time  dead_account  affiliate  \\\n",
              "numeric_id                                                         \n",
              "0           0.000020       1   0.230843             0          1   \n",
              "1           0.000001       0   0.647711             0          0   \n",
              "2           0.000995       1   0.756145             0          1   \n",
              "3           0.000001       0   0.321205             0          0   \n",
              "4           0.000006       0   0.427229             0          0   \n",
              "...              ...     ...        ...           ...        ...   \n",
              "168109      0.000013       0   0.192530             0          0   \n",
              "168110      0.000011       1   0.498554             0          0   \n",
              "168111      0.000009       0   0.430361             0          1   \n",
              "168112      0.002322       1   0.511807             0          0   \n",
              "168113      0.000002       0   0.480482             0          0   \n",
              "\n",
              "            created_at_year  created_at_month  created_at_day  \\\n",
              "numeric_id                                                      \n",
              "0                  0.818182          0.090909        0.500000   \n",
              "1                  0.363636          0.363636        0.600000   \n",
              "2                  0.272727          0.090909        0.866667   \n",
              "3                  0.727273          0.000000        0.833333   \n",
              "4                  0.545455          0.909091        0.700000   \n",
              "...                     ...               ...             ...   \n",
              "168109             0.818182          0.545455        0.633333   \n",
              "168110             0.545455          0.000000        1.000000   \n",
              "168111             0.545455          0.909091        0.233333   \n",
              "168112             0.454545          1.000000        0.200000   \n",
              "168113             0.545455          0.000000        0.700000   \n",
              "\n",
              "            updated_at_year  updated_at_month  ...  language_NL  language_NO  \\\n",
              "numeric_id                                     ...                             \n",
              "0                       1.0          0.818182  ...            0            0   \n",
              "1                       1.0          0.818182  ...            0            0   \n",
              "2                       1.0          0.818182  ...            0            0   \n",
              "3                       1.0          0.818182  ...            0            0   \n",
              "4                       1.0          0.818182  ...            0            0   \n",
              "...                     ...               ...  ...          ...          ...   \n",
              "168109                  1.0          0.818182  ...            0            0   \n",
              "168110                  1.0          0.818182  ...            0            0   \n",
              "168111                  1.0          0.818182  ...            0            0   \n",
              "168112                  1.0          0.818182  ...            0            0   \n",
              "168113                  1.0          0.545455  ...            0            0   \n",
              "\n",
              "            language_OTHER  language_PL  language_PT  language_RU  \\\n",
              "numeric_id                                                          \n",
              "0                        0            0            0            0   \n",
              "1                        0            0            0            0   \n",
              "2                        0            0            0            0   \n",
              "3                        0            0            0            0   \n",
              "4                        0            0            0            0   \n",
              "...                    ...          ...          ...          ...   \n",
              "168109                   0            0            0            0   \n",
              "168110                   0            0            0            0   \n",
              "168111                   0            0            0            0   \n",
              "168112                   0            0            0            0   \n",
              "168113                   0            0            0            0   \n",
              "\n",
              "            language_SV  language_TH  language_TR  language_ZH  \n",
              "numeric_id                                                      \n",
              "0                     0            0            0            0  \n",
              "1                     0            0            0            0  \n",
              "2                     0            0            0            0  \n",
              "3                     0            0            0            0  \n",
              "4                     0            0            0            0  \n",
              "...                 ...          ...          ...          ...  \n",
              "168109                0            0            0            0  \n",
              "168110                0            0            0            0  \n",
              "168111                0            0            0            0  \n",
              "168112                0            0            0            0  \n",
              "168113                0            0            0            0  \n",
              "\n",
              "[168114 rows x 32 columns]"
            ],
            "text/html": [
              "\n",
              "  <div id=\"df-6931ac9b-4248-4e9d-a7dd-d48ed37c2e20\">\n",
              "    <div class=\"colab-df-container\">\n",
              "      <div>\n",
              "<style scoped>\n",
              "    .dataframe tbody tr th:only-of-type {\n",
              "        vertical-align: middle;\n",
              "    }\n",
              "\n",
              "    .dataframe tbody tr th {\n",
              "        vertical-align: top;\n",
              "    }\n",
              "\n",
              "    .dataframe thead th {\n",
              "        text-align: right;\n",
              "    }\n",
              "</style>\n",
              "<table border=\"1\" class=\"dataframe\">\n",
              "  <thead>\n",
              "    <tr style=\"text-align: right;\">\n",
              "      <th></th>\n",
              "      <th>views</th>\n",
              "      <th>mature</th>\n",
              "      <th>life_time</th>\n",
              "      <th>dead_account</th>\n",
              "      <th>affiliate</th>\n",
              "      <th>created_at_year</th>\n",
              "      <th>created_at_month</th>\n",
              "      <th>created_at_day</th>\n",
              "      <th>updated_at_year</th>\n",
              "      <th>updated_at_month</th>\n",
              "      <th>...</th>\n",
              "      <th>language_NL</th>\n",
              "      <th>language_NO</th>\n",
              "      <th>language_OTHER</th>\n",
              "      <th>language_PL</th>\n",
              "      <th>language_PT</th>\n",
              "      <th>language_RU</th>\n",
              "      <th>language_SV</th>\n",
              "      <th>language_TH</th>\n",
              "      <th>language_TR</th>\n",
              "      <th>language_ZH</th>\n",
              "    </tr>\n",
              "    <tr>\n",
              "      <th>numeric_id</th>\n",
              "      <th></th>\n",
              "      <th></th>\n",
              "      <th></th>\n",
              "      <th></th>\n",
              "      <th></th>\n",
              "      <th></th>\n",
              "      <th></th>\n",
              "      <th></th>\n",
              "      <th></th>\n",
              "      <th></th>\n",
              "      <th></th>\n",
              "      <th></th>\n",
              "      <th></th>\n",
              "      <th></th>\n",
              "      <th></th>\n",
              "      <th></th>\n",
              "      <th></th>\n",
              "      <th></th>\n",
              "      <th></th>\n",
              "      <th></th>\n",
              "      <th></th>\n",
              "    </tr>\n",
              "  </thead>\n",
              "  <tbody>\n",
              "    <tr>\n",
              "      <th>0</th>\n",
              "      <td>0.000020</td>\n",
              "      <td>1</td>\n",
              "      <td>0.230843</td>\n",
              "      <td>0</td>\n",
              "      <td>1</td>\n",
              "      <td>0.818182</td>\n",
              "      <td>0.090909</td>\n",
              "      <td>0.500000</td>\n",
              "      <td>1.0</td>\n",
              "      <td>0.818182</td>\n",
              "      <td>...</td>\n",
              "      <td>0</td>\n",
              "      <td>0</td>\n",
              "      <td>0</td>\n",
              "      <td>0</td>\n",
              "      <td>0</td>\n",
              "      <td>0</td>\n",
              "      <td>0</td>\n",
              "      <td>0</td>\n",
              "      <td>0</td>\n",
              "      <td>0</td>\n",
              "    </tr>\n",
              "    <tr>\n",
              "      <th>1</th>\n",
              "      <td>0.000001</td>\n",
              "      <td>0</td>\n",
              "      <td>0.647711</td>\n",
              "      <td>0</td>\n",
              "      <td>0</td>\n",
              "      <td>0.363636</td>\n",
              "      <td>0.363636</td>\n",
              "      <td>0.600000</td>\n",
              "      <td>1.0</td>\n",
              "      <td>0.818182</td>\n",
              "      <td>...</td>\n",
              "      <td>0</td>\n",
              "      <td>0</td>\n",
              "      <td>0</td>\n",
              "      <td>0</td>\n",
              "      <td>0</td>\n",
              "      <td>0</td>\n",
              "      <td>0</td>\n",
              "      <td>0</td>\n",
              "      <td>0</td>\n",
              "      <td>0</td>\n",
              "    </tr>\n",
              "    <tr>\n",
              "      <th>2</th>\n",
              "      <td>0.000995</td>\n",
              "      <td>1</td>\n",
              "      <td>0.756145</td>\n",
              "      <td>0</td>\n",
              "      <td>1</td>\n",
              "      <td>0.272727</td>\n",
              "      <td>0.090909</td>\n",
              "      <td>0.866667</td>\n",
              "      <td>1.0</td>\n",
              "      <td>0.818182</td>\n",
              "      <td>...</td>\n",
              "      <td>0</td>\n",
              "      <td>0</td>\n",
              "      <td>0</td>\n",
              "      <td>0</td>\n",
              "      <td>0</td>\n",
              "      <td>0</td>\n",
              "      <td>0</td>\n",
              "      <td>0</td>\n",
              "      <td>0</td>\n",
              "      <td>0</td>\n",
              "    </tr>\n",
              "    <tr>\n",
              "      <th>3</th>\n",
              "      <td>0.000001</td>\n",
              "      <td>0</td>\n",
              "      <td>0.321205</td>\n",
              "      <td>0</td>\n",
              "      <td>0</td>\n",
              "      <td>0.727273</td>\n",
              "      <td>0.000000</td>\n",
              "      <td>0.833333</td>\n",
              "      <td>1.0</td>\n",
              "      <td>0.818182</td>\n",
              "      <td>...</td>\n",
              "      <td>0</td>\n",
              "      <td>0</td>\n",
              "      <td>0</td>\n",
              "      <td>0</td>\n",
              "      <td>0</td>\n",
              "      <td>0</td>\n",
              "      <td>0</td>\n",
              "      <td>0</td>\n",
              "      <td>0</td>\n",
              "      <td>0</td>\n",
              "    </tr>\n",
              "    <tr>\n",
              "      <th>4</th>\n",
              "      <td>0.000006</td>\n",
              "      <td>0</td>\n",
              "      <td>0.427229</td>\n",
              "      <td>0</td>\n",
              "      <td>0</td>\n",
              "      <td>0.545455</td>\n",
              "      <td>0.909091</td>\n",
              "      <td>0.700000</td>\n",
              "      <td>1.0</td>\n",
              "      <td>0.818182</td>\n",
              "      <td>...</td>\n",
              "      <td>0</td>\n",
              "      <td>0</td>\n",
              "      <td>0</td>\n",
              "      <td>0</td>\n",
              "      <td>0</td>\n",
              "      <td>0</td>\n",
              "      <td>0</td>\n",
              "      <td>0</td>\n",
              "      <td>0</td>\n",
              "      <td>0</td>\n",
              "    </tr>\n",
              "    <tr>\n",
              "      <th>...</th>\n",
              "      <td>...</td>\n",
              "      <td>...</td>\n",
              "      <td>...</td>\n",
              "      <td>...</td>\n",
              "      <td>...</td>\n",
              "      <td>...</td>\n",
              "      <td>...</td>\n",
              "      <td>...</td>\n",
              "      <td>...</td>\n",
              "      <td>...</td>\n",
              "      <td>...</td>\n",
              "      <td>...</td>\n",
              "      <td>...</td>\n",
              "      <td>...</td>\n",
              "      <td>...</td>\n",
              "      <td>...</td>\n",
              "      <td>...</td>\n",
              "      <td>...</td>\n",
              "      <td>...</td>\n",
              "      <td>...</td>\n",
              "      <td>...</td>\n",
              "    </tr>\n",
              "    <tr>\n",
              "      <th>168109</th>\n",
              "      <td>0.000013</td>\n",
              "      <td>0</td>\n",
              "      <td>0.192530</td>\n",
              "      <td>0</td>\n",
              "      <td>0</td>\n",
              "      <td>0.818182</td>\n",
              "      <td>0.545455</td>\n",
              "      <td>0.633333</td>\n",
              "      <td>1.0</td>\n",
              "      <td>0.818182</td>\n",
              "      <td>...</td>\n",
              "      <td>0</td>\n",
              "      <td>0</td>\n",
              "      <td>0</td>\n",
              "      <td>0</td>\n",
              "      <td>0</td>\n",
              "      <td>0</td>\n",
              "      <td>0</td>\n",
              "      <td>0</td>\n",
              "      <td>0</td>\n",
              "      <td>0</td>\n",
              "    </tr>\n",
              "    <tr>\n",
              "      <th>168110</th>\n",
              "      <td>0.000011</td>\n",
              "      <td>1</td>\n",
              "      <td>0.498554</td>\n",
              "      <td>0</td>\n",
              "      <td>0</td>\n",
              "      <td>0.545455</td>\n",
              "      <td>0.000000</td>\n",
              "      <td>1.000000</td>\n",
              "      <td>1.0</td>\n",
              "      <td>0.818182</td>\n",
              "      <td>...</td>\n",
              "      <td>0</td>\n",
              "      <td>0</td>\n",
              "      <td>0</td>\n",
              "      <td>0</td>\n",
              "      <td>0</td>\n",
              "      <td>0</td>\n",
              "      <td>0</td>\n",
              "      <td>0</td>\n",
              "      <td>0</td>\n",
              "      <td>0</td>\n",
              "    </tr>\n",
              "    <tr>\n",
              "      <th>168111</th>\n",
              "      <td>0.000009</td>\n",
              "      <td>0</td>\n",
              "      <td>0.430361</td>\n",
              "      <td>0</td>\n",
              "      <td>1</td>\n",
              "      <td>0.545455</td>\n",
              "      <td>0.909091</td>\n",
              "      <td>0.233333</td>\n",
              "      <td>1.0</td>\n",
              "      <td>0.818182</td>\n",
              "      <td>...</td>\n",
              "      <td>0</td>\n",
              "      <td>0</td>\n",
              "      <td>0</td>\n",
              "      <td>0</td>\n",
              "      <td>0</td>\n",
              "      <td>0</td>\n",
              "      <td>0</td>\n",
              "      <td>0</td>\n",
              "      <td>0</td>\n",
              "      <td>0</td>\n",
              "    </tr>\n",
              "    <tr>\n",
              "      <th>168112</th>\n",
              "      <td>0.002322</td>\n",
              "      <td>1</td>\n",
              "      <td>0.511807</td>\n",
              "      <td>0</td>\n",
              "      <td>0</td>\n",
              "      <td>0.454545</td>\n",
              "      <td>1.000000</td>\n",
              "      <td>0.200000</td>\n",
              "      <td>1.0</td>\n",
              "      <td>0.818182</td>\n",
              "      <td>...</td>\n",
              "      <td>0</td>\n",
              "      <td>0</td>\n",
              "      <td>0</td>\n",
              "      <td>0</td>\n",
              "      <td>0</td>\n",
              "      <td>0</td>\n",
              "      <td>0</td>\n",
              "      <td>0</td>\n",
              "      <td>0</td>\n",
              "      <td>0</td>\n",
              "    </tr>\n",
              "    <tr>\n",
              "      <th>168113</th>\n",
              "      <td>0.000002</td>\n",
              "      <td>0</td>\n",
              "      <td>0.480482</td>\n",
              "      <td>0</td>\n",
              "      <td>0</td>\n",
              "      <td>0.545455</td>\n",
              "      <td>0.000000</td>\n",
              "      <td>0.700000</td>\n",
              "      <td>1.0</td>\n",
              "      <td>0.545455</td>\n",
              "      <td>...</td>\n",
              "      <td>0</td>\n",
              "      <td>0</td>\n",
              "      <td>0</td>\n",
              "      <td>0</td>\n",
              "      <td>0</td>\n",
              "      <td>0</td>\n",
              "      <td>0</td>\n",
              "      <td>0</td>\n",
              "      <td>0</td>\n",
              "      <td>0</td>\n",
              "    </tr>\n",
              "  </tbody>\n",
              "</table>\n",
              "<p>168114 rows × 32 columns</p>\n",
              "</div>\n",
              "      <button class=\"colab-df-convert\" onclick=\"convertToInteractive('df-6931ac9b-4248-4e9d-a7dd-d48ed37c2e20')\"\n",
              "              title=\"Convert this dataframe to an interactive table.\"\n",
              "              style=\"display:none;\">\n",
              "        \n",
              "  <svg xmlns=\"http://www.w3.org/2000/svg\" height=\"24px\"viewBox=\"0 0 24 24\"\n",
              "       width=\"24px\">\n",
              "    <path d=\"M0 0h24v24H0V0z\" fill=\"none\"/>\n",
              "    <path d=\"M18.56 5.44l.94 2.06.94-2.06 2.06-.94-2.06-.94-.94-2.06-.94 2.06-2.06.94zm-11 1L8.5 8.5l.94-2.06 2.06-.94-2.06-.94L8.5 2.5l-.94 2.06-2.06.94zm10 10l.94 2.06.94-2.06 2.06-.94-2.06-.94-.94-2.06-.94 2.06-2.06.94z\"/><path d=\"M17.41 7.96l-1.37-1.37c-.4-.4-.92-.59-1.43-.59-.52 0-1.04.2-1.43.59L10.3 9.45l-7.72 7.72c-.78.78-.78 2.05 0 2.83L4 21.41c.39.39.9.59 1.41.59.51 0 1.02-.2 1.41-.59l7.78-7.78 2.81-2.81c.8-.78.8-2.07 0-2.86zM5.41 20L4 18.59l7.72-7.72 1.47 1.35L5.41 20z\"/>\n",
              "  </svg>\n",
              "      </button>\n",
              "      \n",
              "  <style>\n",
              "    .colab-df-container {\n",
              "      display:flex;\n",
              "      flex-wrap:wrap;\n",
              "      gap: 12px;\n",
              "    }\n",
              "\n",
              "    .colab-df-convert {\n",
              "      background-color: #E8F0FE;\n",
              "      border: none;\n",
              "      border-radius: 50%;\n",
              "      cursor: pointer;\n",
              "      display: none;\n",
              "      fill: #1967D2;\n",
              "      height: 32px;\n",
              "      padding: 0 0 0 0;\n",
              "      width: 32px;\n",
              "    }\n",
              "\n",
              "    .colab-df-convert:hover {\n",
              "      background-color: #E2EBFA;\n",
              "      box-shadow: 0px 1px 2px rgba(60, 64, 67, 0.3), 0px 1px 3px 1px rgba(60, 64, 67, 0.15);\n",
              "      fill: #174EA6;\n",
              "    }\n",
              "\n",
              "    [theme=dark] .colab-df-convert {\n",
              "      background-color: #3B4455;\n",
              "      fill: #D2E3FC;\n",
              "    }\n",
              "\n",
              "    [theme=dark] .colab-df-convert:hover {\n",
              "      background-color: #434B5C;\n",
              "      box-shadow: 0px 1px 3px 1px rgba(0, 0, 0, 0.15);\n",
              "      filter: drop-shadow(0px 1px 2px rgba(0, 0, 0, 0.3));\n",
              "      fill: #FFFFFF;\n",
              "    }\n",
              "  </style>\n",
              "\n",
              "      <script>\n",
              "        const buttonEl =\n",
              "          document.querySelector('#df-6931ac9b-4248-4e9d-a7dd-d48ed37c2e20 button.colab-df-convert');\n",
              "        buttonEl.style.display =\n",
              "          google.colab.kernel.accessAllowed ? 'block' : 'none';\n",
              "\n",
              "        async function convertToInteractive(key) {\n",
              "          const element = document.querySelector('#df-6931ac9b-4248-4e9d-a7dd-d48ed37c2e20');\n",
              "          const dataTable =\n",
              "            await google.colab.kernel.invokeFunction('convertToInteractive',\n",
              "                                                     [key], {});\n",
              "          if (!dataTable) return;\n",
              "\n",
              "          const docLinkHtml = 'Like what you see? Visit the ' +\n",
              "            '<a target=\"_blank\" href=https://colab.research.google.com/notebooks/data_table.ipynb>data table notebook</a>'\n",
              "            + ' to learn more about interactive tables.';\n",
              "          element.innerHTML = '';\n",
              "          dataTable['output_type'] = 'display_data';\n",
              "          await google.colab.output.renderOutput(dataTable, element);\n",
              "          const docLink = document.createElement('div');\n",
              "          docLink.innerHTML = docLinkHtml;\n",
              "          element.appendChild(docLink);\n",
              "        }\n",
              "      </script>\n",
              "    </div>\n",
              "  </div>\n",
              "  "
            ]
          },
          "metadata": {},
          "execution_count": 34
        }
      ],
      "source": [
        "nodes"
      ],
      "metadata": {
        "colab": {
          "base_uri": "https://localhost:8080/",
          "height": 519
        },
        "id": "oGzyN7Zt71qu",
        "outputId": "ebc769b1-d1e4-4e10-c7a1-7c98ba6cf379"
      }
    },
    {
      "cell_type": "code",
      "source": [
        "n2v_embeddings.index.astype(int)"
      ],
      "metadata": {
        "colab": {
          "base_uri": "https://localhost:8080/"
        },
        "id": "oZt7abgu_kYT",
        "outputId": "81b00d6b-1352-4d69-f5b2-c451cc9c8ce1"
      },
      "execution_count": null,
      "outputs": [
        {
          "output_type": "execute_result",
          "data": {
            "text/plain": [
              "Int64Index([141493, 116648, 125430,   3635,  58736, 140703, 151401, 157118,\n",
              "               495,  98343,\n",
              "            ...\n",
              "             80128,  25745, 156593, 114431,  68963, 135859,  89574,  55524,\n",
              "             25634, 130218],\n",
              "           dtype='int64', length=8678)"
            ]
          },
          "metadata": {},
          "execution_count": 64
        }
      ]
    },
    {
      "cell_type": "code",
      "source": [
        "n2v_embeddings['id'] = n2v_embeddings.index.astype(int, False)\n",
        "n2v_embeddings"
      ],
      "metadata": {
        "colab": {
          "base_uri": "https://localhost:8080/",
          "height": 488
        },
        "id": "Wy931UpTAhGW",
        "outputId": "6126cd83-4e6b-45b9-9edc-fa6743e1f038"
      },
      "execution_count": null,
      "outputs": [
        {
          "output_type": "execute_result",
          "data": {
            "text/plain": [
              "               0         1         2         3         4         5         6  \\\n",
              "141493  0.173281  0.171235  0.057012  0.125086  0.094069 -0.325244  0.004957   \n",
              "116648 -0.120358  0.314686  0.152845 -0.083105 -0.060703 -0.100719  0.040346   \n",
              "125430 -0.186884 -0.400275  0.128582 -0.256730  0.143213 -0.220536  0.303987   \n",
              "3635   -0.155430 -0.319745  0.344132  0.298644  0.012237 -0.523516 -0.385866   \n",
              "58736  -0.012297 -0.557820  0.079286 -0.353544 -0.075154 -0.281478 -0.285753   \n",
              "...          ...       ...       ...       ...       ...       ...       ...   \n",
              "135859  0.061583 -0.313215  0.300760 -0.081361  0.415540 -0.033220 -0.310866   \n",
              "89574   0.004667 -0.485985  0.090455 -0.305042 -0.166455 -0.299770 -0.297472   \n",
              "55524   0.141984 -0.308783  0.295159  0.074422  0.439983 -0.143848 -0.243821   \n",
              "25634   0.060242 -0.166870  0.316707 -0.096314  0.409777  0.082441 -0.133928   \n",
              "130218  0.089381 -0.263578  0.334961 -0.000810  0.406443 -0.029580 -0.235913   \n",
              "\n",
              "               7         8         9  ...       119       120       121  \\\n",
              "141493  0.194142 -0.215382 -0.044722  ... -0.019145 -0.062106  0.050431   \n",
              "116648  0.035818  0.076773  0.154103  ... -0.217580 -0.066853 -0.061279   \n",
              "125430  0.064911  0.001066  0.262726  ... -0.096897  0.034014  0.318441   \n",
              "3635    0.056216  0.172886 -0.098504  ... -0.273477 -0.421835  0.245115   \n",
              "58736  -0.027000 -0.089709  0.029142  ...  0.235082 -0.025273  0.349426   \n",
              "...          ...       ...       ...  ...       ...       ...       ...   \n",
              "135859 -0.038409 -0.104245 -0.148407  ...  0.022152  0.048363  0.165429   \n",
              "89574  -0.015510 -0.170049  0.014545  ...  0.184914 -0.035722  0.354426   \n",
              "55524  -0.052712 -0.274603 -0.222357  ...  0.070363  0.135214  0.173284   \n",
              "25634  -0.056733 -0.070828 -0.051065  ... -0.091175  0.096193  0.165873   \n",
              "130218 -0.055439 -0.185767 -0.156889  ... -0.041264  0.088258  0.139206   \n",
              "\n",
              "             122       123       124       125       126       127      id  \n",
              "141493  0.017012 -0.034024  0.024692 -0.151788  0.124745  0.083000  141493  \n",
              "116648 -0.000059 -0.008355 -0.126021 -0.212978 -0.223324  0.007652  116648  \n",
              "125430 -0.125502 -0.171268  0.030039  0.145556 -0.108212  0.203913  125430  \n",
              "3635    0.090214 -0.055136 -0.130665 -0.456881 -0.064575  0.048775    3635  \n",
              "58736  -0.110621  0.055165 -0.210518 -0.503350 -0.139584 -0.096643   58736  \n",
              "...          ...       ...       ...       ...       ...       ...     ...  \n",
              "135859 -0.209660  0.305747  0.102897 -0.262809 -0.029506  0.471887  135859  \n",
              "89574  -0.059400  0.037007 -0.118513 -0.500462  0.054906 -0.013527   89574  \n",
              "55524  -0.217593  0.196579  0.073981 -0.279072 -0.076684  0.609635   55524  \n",
              "25634  -0.162126  0.220993  0.078076 -0.074451 -0.088107  0.504349   25634  \n",
              "130218 -0.177030  0.246308  0.056944 -0.273511 -0.127412  0.544561  130218  \n",
              "\n",
              "[8678 rows x 129 columns]"
            ],
            "text/html": [
              "\n",
              "  <div id=\"df-4d4ee33d-4b73-4999-81ca-825d10236138\">\n",
              "    <div class=\"colab-df-container\">\n",
              "      <div>\n",
              "<style scoped>\n",
              "    .dataframe tbody tr th:only-of-type {\n",
              "        vertical-align: middle;\n",
              "    }\n",
              "\n",
              "    .dataframe tbody tr th {\n",
              "        vertical-align: top;\n",
              "    }\n",
              "\n",
              "    .dataframe thead th {\n",
              "        text-align: right;\n",
              "    }\n",
              "</style>\n",
              "<table border=\"1\" class=\"dataframe\">\n",
              "  <thead>\n",
              "    <tr style=\"text-align: right;\">\n",
              "      <th></th>\n",
              "      <th>0</th>\n",
              "      <th>1</th>\n",
              "      <th>2</th>\n",
              "      <th>3</th>\n",
              "      <th>4</th>\n",
              "      <th>5</th>\n",
              "      <th>6</th>\n",
              "      <th>7</th>\n",
              "      <th>8</th>\n",
              "      <th>9</th>\n",
              "      <th>...</th>\n",
              "      <th>119</th>\n",
              "      <th>120</th>\n",
              "      <th>121</th>\n",
              "      <th>122</th>\n",
              "      <th>123</th>\n",
              "      <th>124</th>\n",
              "      <th>125</th>\n",
              "      <th>126</th>\n",
              "      <th>127</th>\n",
              "      <th>id</th>\n",
              "    </tr>\n",
              "  </thead>\n",
              "  <tbody>\n",
              "    <tr>\n",
              "      <th>141493</th>\n",
              "      <td>0.173281</td>\n",
              "      <td>0.171235</td>\n",
              "      <td>0.057012</td>\n",
              "      <td>0.125086</td>\n",
              "      <td>0.094069</td>\n",
              "      <td>-0.325244</td>\n",
              "      <td>0.004957</td>\n",
              "      <td>0.194142</td>\n",
              "      <td>-0.215382</td>\n",
              "      <td>-0.044722</td>\n",
              "      <td>...</td>\n",
              "      <td>-0.019145</td>\n",
              "      <td>-0.062106</td>\n",
              "      <td>0.050431</td>\n",
              "      <td>0.017012</td>\n",
              "      <td>-0.034024</td>\n",
              "      <td>0.024692</td>\n",
              "      <td>-0.151788</td>\n",
              "      <td>0.124745</td>\n",
              "      <td>0.083000</td>\n",
              "      <td>141493</td>\n",
              "    </tr>\n",
              "    <tr>\n",
              "      <th>116648</th>\n",
              "      <td>-0.120358</td>\n",
              "      <td>0.314686</td>\n",
              "      <td>0.152845</td>\n",
              "      <td>-0.083105</td>\n",
              "      <td>-0.060703</td>\n",
              "      <td>-0.100719</td>\n",
              "      <td>0.040346</td>\n",
              "      <td>0.035818</td>\n",
              "      <td>0.076773</td>\n",
              "      <td>0.154103</td>\n",
              "      <td>...</td>\n",
              "      <td>-0.217580</td>\n",
              "      <td>-0.066853</td>\n",
              "      <td>-0.061279</td>\n",
              "      <td>-0.000059</td>\n",
              "      <td>-0.008355</td>\n",
              "      <td>-0.126021</td>\n",
              "      <td>-0.212978</td>\n",
              "      <td>-0.223324</td>\n",
              "      <td>0.007652</td>\n",
              "      <td>116648</td>\n",
              "    </tr>\n",
              "    <tr>\n",
              "      <th>125430</th>\n",
              "      <td>-0.186884</td>\n",
              "      <td>-0.400275</td>\n",
              "      <td>0.128582</td>\n",
              "      <td>-0.256730</td>\n",
              "      <td>0.143213</td>\n",
              "      <td>-0.220536</td>\n",
              "      <td>0.303987</td>\n",
              "      <td>0.064911</td>\n",
              "      <td>0.001066</td>\n",
              "      <td>0.262726</td>\n",
              "      <td>...</td>\n",
              "      <td>-0.096897</td>\n",
              "      <td>0.034014</td>\n",
              "      <td>0.318441</td>\n",
              "      <td>-0.125502</td>\n",
              "      <td>-0.171268</td>\n",
              "      <td>0.030039</td>\n",
              "      <td>0.145556</td>\n",
              "      <td>-0.108212</td>\n",
              "      <td>0.203913</td>\n",
              "      <td>125430</td>\n",
              "    </tr>\n",
              "    <tr>\n",
              "      <th>3635</th>\n",
              "      <td>-0.155430</td>\n",
              "      <td>-0.319745</td>\n",
              "      <td>0.344132</td>\n",
              "      <td>0.298644</td>\n",
              "      <td>0.012237</td>\n",
              "      <td>-0.523516</td>\n",
              "      <td>-0.385866</td>\n",
              "      <td>0.056216</td>\n",
              "      <td>0.172886</td>\n",
              "      <td>-0.098504</td>\n",
              "      <td>...</td>\n",
              "      <td>-0.273477</td>\n",
              "      <td>-0.421835</td>\n",
              "      <td>0.245115</td>\n",
              "      <td>0.090214</td>\n",
              "      <td>-0.055136</td>\n",
              "      <td>-0.130665</td>\n",
              "      <td>-0.456881</td>\n",
              "      <td>-0.064575</td>\n",
              "      <td>0.048775</td>\n",
              "      <td>3635</td>\n",
              "    </tr>\n",
              "    <tr>\n",
              "      <th>58736</th>\n",
              "      <td>-0.012297</td>\n",
              "      <td>-0.557820</td>\n",
              "      <td>0.079286</td>\n",
              "      <td>-0.353544</td>\n",
              "      <td>-0.075154</td>\n",
              "      <td>-0.281478</td>\n",
              "      <td>-0.285753</td>\n",
              "      <td>-0.027000</td>\n",
              "      <td>-0.089709</td>\n",
              "      <td>0.029142</td>\n",
              "      <td>...</td>\n",
              "      <td>0.235082</td>\n",
              "      <td>-0.025273</td>\n",
              "      <td>0.349426</td>\n",
              "      <td>-0.110621</td>\n",
              "      <td>0.055165</td>\n",
              "      <td>-0.210518</td>\n",
              "      <td>-0.503350</td>\n",
              "      <td>-0.139584</td>\n",
              "      <td>-0.096643</td>\n",
              "      <td>58736</td>\n",
              "    </tr>\n",
              "    <tr>\n",
              "      <th>...</th>\n",
              "      <td>...</td>\n",
              "      <td>...</td>\n",
              "      <td>...</td>\n",
              "      <td>...</td>\n",
              "      <td>...</td>\n",
              "      <td>...</td>\n",
              "      <td>...</td>\n",
              "      <td>...</td>\n",
              "      <td>...</td>\n",
              "      <td>...</td>\n",
              "      <td>...</td>\n",
              "      <td>...</td>\n",
              "      <td>...</td>\n",
              "      <td>...</td>\n",
              "      <td>...</td>\n",
              "      <td>...</td>\n",
              "      <td>...</td>\n",
              "      <td>...</td>\n",
              "      <td>...</td>\n",
              "      <td>...</td>\n",
              "      <td>...</td>\n",
              "    </tr>\n",
              "    <tr>\n",
              "      <th>135859</th>\n",
              "      <td>0.061583</td>\n",
              "      <td>-0.313215</td>\n",
              "      <td>0.300760</td>\n",
              "      <td>-0.081361</td>\n",
              "      <td>0.415540</td>\n",
              "      <td>-0.033220</td>\n",
              "      <td>-0.310866</td>\n",
              "      <td>-0.038409</td>\n",
              "      <td>-0.104245</td>\n",
              "      <td>-0.148407</td>\n",
              "      <td>...</td>\n",
              "      <td>0.022152</td>\n",
              "      <td>0.048363</td>\n",
              "      <td>0.165429</td>\n",
              "      <td>-0.209660</td>\n",
              "      <td>0.305747</td>\n",
              "      <td>0.102897</td>\n",
              "      <td>-0.262809</td>\n",
              "      <td>-0.029506</td>\n",
              "      <td>0.471887</td>\n",
              "      <td>135859</td>\n",
              "    </tr>\n",
              "    <tr>\n",
              "      <th>89574</th>\n",
              "      <td>0.004667</td>\n",
              "      <td>-0.485985</td>\n",
              "      <td>0.090455</td>\n",
              "      <td>-0.305042</td>\n",
              "      <td>-0.166455</td>\n",
              "      <td>-0.299770</td>\n",
              "      <td>-0.297472</td>\n",
              "      <td>-0.015510</td>\n",
              "      <td>-0.170049</td>\n",
              "      <td>0.014545</td>\n",
              "      <td>...</td>\n",
              "      <td>0.184914</td>\n",
              "      <td>-0.035722</td>\n",
              "      <td>0.354426</td>\n",
              "      <td>-0.059400</td>\n",
              "      <td>0.037007</td>\n",
              "      <td>-0.118513</td>\n",
              "      <td>-0.500462</td>\n",
              "      <td>0.054906</td>\n",
              "      <td>-0.013527</td>\n",
              "      <td>89574</td>\n",
              "    </tr>\n",
              "    <tr>\n",
              "      <th>55524</th>\n",
              "      <td>0.141984</td>\n",
              "      <td>-0.308783</td>\n",
              "      <td>0.295159</td>\n",
              "      <td>0.074422</td>\n",
              "      <td>0.439983</td>\n",
              "      <td>-0.143848</td>\n",
              "      <td>-0.243821</td>\n",
              "      <td>-0.052712</td>\n",
              "      <td>-0.274603</td>\n",
              "      <td>-0.222357</td>\n",
              "      <td>...</td>\n",
              "      <td>0.070363</td>\n",
              "      <td>0.135214</td>\n",
              "      <td>0.173284</td>\n",
              "      <td>-0.217593</td>\n",
              "      <td>0.196579</td>\n",
              "      <td>0.073981</td>\n",
              "      <td>-0.279072</td>\n",
              "      <td>-0.076684</td>\n",
              "      <td>0.609635</td>\n",
              "      <td>55524</td>\n",
              "    </tr>\n",
              "    <tr>\n",
              "      <th>25634</th>\n",
              "      <td>0.060242</td>\n",
              "      <td>-0.166870</td>\n",
              "      <td>0.316707</td>\n",
              "      <td>-0.096314</td>\n",
              "      <td>0.409777</td>\n",
              "      <td>0.082441</td>\n",
              "      <td>-0.133928</td>\n",
              "      <td>-0.056733</td>\n",
              "      <td>-0.070828</td>\n",
              "      <td>-0.051065</td>\n",
              "      <td>...</td>\n",
              "      <td>-0.091175</td>\n",
              "      <td>0.096193</td>\n",
              "      <td>0.165873</td>\n",
              "      <td>-0.162126</td>\n",
              "      <td>0.220993</td>\n",
              "      <td>0.078076</td>\n",
              "      <td>-0.074451</td>\n",
              "      <td>-0.088107</td>\n",
              "      <td>0.504349</td>\n",
              "      <td>25634</td>\n",
              "    </tr>\n",
              "    <tr>\n",
              "      <th>130218</th>\n",
              "      <td>0.089381</td>\n",
              "      <td>-0.263578</td>\n",
              "      <td>0.334961</td>\n",
              "      <td>-0.000810</td>\n",
              "      <td>0.406443</td>\n",
              "      <td>-0.029580</td>\n",
              "      <td>-0.235913</td>\n",
              "      <td>-0.055439</td>\n",
              "      <td>-0.185767</td>\n",
              "      <td>-0.156889</td>\n",
              "      <td>...</td>\n",
              "      <td>-0.041264</td>\n",
              "      <td>0.088258</td>\n",
              "      <td>0.139206</td>\n",
              "      <td>-0.177030</td>\n",
              "      <td>0.246308</td>\n",
              "      <td>0.056944</td>\n",
              "      <td>-0.273511</td>\n",
              "      <td>-0.127412</td>\n",
              "      <td>0.544561</td>\n",
              "      <td>130218</td>\n",
              "    </tr>\n",
              "  </tbody>\n",
              "</table>\n",
              "<p>8678 rows × 129 columns</p>\n",
              "</div>\n",
              "      <button class=\"colab-df-convert\" onclick=\"convertToInteractive('df-4d4ee33d-4b73-4999-81ca-825d10236138')\"\n",
              "              title=\"Convert this dataframe to an interactive table.\"\n",
              "              style=\"display:none;\">\n",
              "        \n",
              "  <svg xmlns=\"http://www.w3.org/2000/svg\" height=\"24px\"viewBox=\"0 0 24 24\"\n",
              "       width=\"24px\">\n",
              "    <path d=\"M0 0h24v24H0V0z\" fill=\"none\"/>\n",
              "    <path d=\"M18.56 5.44l.94 2.06.94-2.06 2.06-.94-2.06-.94-.94-2.06-.94 2.06-2.06.94zm-11 1L8.5 8.5l.94-2.06 2.06-.94-2.06-.94L8.5 2.5l-.94 2.06-2.06.94zm10 10l.94 2.06.94-2.06 2.06-.94-2.06-.94-.94-2.06-.94 2.06-2.06.94z\"/><path d=\"M17.41 7.96l-1.37-1.37c-.4-.4-.92-.59-1.43-.59-.52 0-1.04.2-1.43.59L10.3 9.45l-7.72 7.72c-.78.78-.78 2.05 0 2.83L4 21.41c.39.39.9.59 1.41.59.51 0 1.02-.2 1.41-.59l7.78-7.78 2.81-2.81c.8-.78.8-2.07 0-2.86zM5.41 20L4 18.59l7.72-7.72 1.47 1.35L5.41 20z\"/>\n",
              "  </svg>\n",
              "      </button>\n",
              "      \n",
              "  <style>\n",
              "    .colab-df-container {\n",
              "      display:flex;\n",
              "      flex-wrap:wrap;\n",
              "      gap: 12px;\n",
              "    }\n",
              "\n",
              "    .colab-df-convert {\n",
              "      background-color: #E8F0FE;\n",
              "      border: none;\n",
              "      border-radius: 50%;\n",
              "      cursor: pointer;\n",
              "      display: none;\n",
              "      fill: #1967D2;\n",
              "      height: 32px;\n",
              "      padding: 0 0 0 0;\n",
              "      width: 32px;\n",
              "    }\n",
              "\n",
              "    .colab-df-convert:hover {\n",
              "      background-color: #E2EBFA;\n",
              "      box-shadow: 0px 1px 2px rgba(60, 64, 67, 0.3), 0px 1px 3px 1px rgba(60, 64, 67, 0.15);\n",
              "      fill: #174EA6;\n",
              "    }\n",
              "\n",
              "    [theme=dark] .colab-df-convert {\n",
              "      background-color: #3B4455;\n",
              "      fill: #D2E3FC;\n",
              "    }\n",
              "\n",
              "    [theme=dark] .colab-df-convert:hover {\n",
              "      background-color: #434B5C;\n",
              "      box-shadow: 0px 1px 3px 1px rgba(0, 0, 0, 0.15);\n",
              "      filter: drop-shadow(0px 1px 2px rgba(0, 0, 0, 0.3));\n",
              "      fill: #FFFFFF;\n",
              "    }\n",
              "  </style>\n",
              "\n",
              "      <script>\n",
              "        const buttonEl =\n",
              "          document.querySelector('#df-4d4ee33d-4b73-4999-81ca-825d10236138 button.colab-df-convert');\n",
              "        buttonEl.style.display =\n",
              "          google.colab.kernel.accessAllowed ? 'block' : 'none';\n",
              "\n",
              "        async function convertToInteractive(key) {\n",
              "          const element = document.querySelector('#df-4d4ee33d-4b73-4999-81ca-825d10236138');\n",
              "          const dataTable =\n",
              "            await google.colab.kernel.invokeFunction('convertToInteractive',\n",
              "                                                     [key], {});\n",
              "          if (!dataTable) return;\n",
              "\n",
              "          const docLinkHtml = 'Like what you see? Visit the ' +\n",
              "            '<a target=\"_blank\" href=https://colab.research.google.com/notebooks/data_table.ipynb>data table notebook</a>'\n",
              "            + ' to learn more about interactive tables.';\n",
              "          element.innerHTML = '';\n",
              "          dataTable['output_type'] = 'display_data';\n",
              "          await google.colab.output.renderOutput(dataTable, element);\n",
              "          const docLink = document.createElement('div');\n",
              "          docLink.innerHTML = docLinkHtml;\n",
              "          element.appendChild(docLink);\n",
              "        }\n",
              "      </script>\n",
              "    </div>\n",
              "  </div>\n",
              "  "
            ]
          },
          "metadata": {},
          "execution_count": 77
        }
      ]
    },
    {
      "cell_type": "code",
      "source": [
        "nodes2 = n2v_embeddings.join(nodes, on='id')\n",
        "nodes2"
      ],
      "metadata": {
        "id": "8UMom4Po58zw",
        "colab": {
          "base_uri": "https://localhost:8080/",
          "height": 488
        },
        "outputId": "43563bb7-dd75-4c2d-a33a-688e70b29200"
      },
      "execution_count": null,
      "outputs": [
        {
          "output_type": "execute_result",
          "data": {
            "text/plain": [
              "               0         1         2         3         4         5         6  \\\n",
              "141493  0.173281  0.171235  0.057012  0.125086  0.094069 -0.325244  0.004957   \n",
              "116648 -0.120358  0.314686  0.152845 -0.083105 -0.060703 -0.100719  0.040346   \n",
              "125430 -0.186884 -0.400275  0.128582 -0.256730  0.143213 -0.220536  0.303987   \n",
              "3635   -0.155430 -0.319745  0.344132  0.298644  0.012237 -0.523516 -0.385866   \n",
              "58736  -0.012297 -0.557820  0.079286 -0.353544 -0.075154 -0.281478 -0.285753   \n",
              "...          ...       ...       ...       ...       ...       ...       ...   \n",
              "135859  0.061583 -0.313215  0.300760 -0.081361  0.415540 -0.033220 -0.310866   \n",
              "89574   0.004667 -0.485985  0.090455 -0.305042 -0.166455 -0.299770 -0.297472   \n",
              "55524   0.141984 -0.308783  0.295159  0.074422  0.439983 -0.143848 -0.243821   \n",
              "25634   0.060242 -0.166870  0.316707 -0.096314  0.409777  0.082441 -0.133928   \n",
              "130218  0.089381 -0.263578  0.334961 -0.000810  0.406443 -0.029580 -0.235913   \n",
              "\n",
              "               7         8         9  ...  language_NL  language_NO  \\\n",
              "141493  0.194142 -0.215382 -0.044722  ...            0            0   \n",
              "116648  0.035818  0.076773  0.154103  ...            0            0   \n",
              "125430  0.064911  0.001066  0.262726  ...            0            0   \n",
              "3635    0.056216  0.172886 -0.098504  ...            0            0   \n",
              "58736  -0.027000 -0.089709  0.029142  ...            0            0   \n",
              "...          ...       ...       ...  ...          ...          ...   \n",
              "135859 -0.038409 -0.104245 -0.148407  ...            0            0   \n",
              "89574  -0.015510 -0.170049  0.014545  ...            0            0   \n",
              "55524  -0.052712 -0.274603 -0.222357  ...            0            0   \n",
              "25634  -0.056733 -0.070828 -0.051065  ...            0            0   \n",
              "130218 -0.055439 -0.185767 -0.156889  ...            0            0   \n",
              "\n",
              "        language_OTHER  language_PL  language_PT  language_RU  language_SV  \\\n",
              "141493               0            0            0            0            0   \n",
              "116648               0            0            0            0            0   \n",
              "125430               0            0            0            0            0   \n",
              "3635                 0            0            0            0            0   \n",
              "58736                0            0            0            0            0   \n",
              "...                ...          ...          ...          ...          ...   \n",
              "135859               0            0            0            0            0   \n",
              "89574                0            0            0            0            0   \n",
              "55524                0            0            0            0            0   \n",
              "25634                0            0            0            0            0   \n",
              "130218               0            0            0            0            0   \n",
              "\n",
              "        language_TH  language_TR  language_ZH  \n",
              "141493            0            0            0  \n",
              "116648            0            0            0  \n",
              "125430            0            0            0  \n",
              "3635              0            0            0  \n",
              "58736             0            0            0  \n",
              "...             ...          ...          ...  \n",
              "135859            0            0            0  \n",
              "89574             0            0            0  \n",
              "55524             0            0            0  \n",
              "25634             0            0            1  \n",
              "130218            0            0            0  \n",
              "\n",
              "[8678 rows x 161 columns]"
            ],
            "text/html": [
              "\n",
              "  <div id=\"df-4de39469-2d74-41a6-9716-d71014e6e9b8\">\n",
              "    <div class=\"colab-df-container\">\n",
              "      <div>\n",
              "<style scoped>\n",
              "    .dataframe tbody tr th:only-of-type {\n",
              "        vertical-align: middle;\n",
              "    }\n",
              "\n",
              "    .dataframe tbody tr th {\n",
              "        vertical-align: top;\n",
              "    }\n",
              "\n",
              "    .dataframe thead th {\n",
              "        text-align: right;\n",
              "    }\n",
              "</style>\n",
              "<table border=\"1\" class=\"dataframe\">\n",
              "  <thead>\n",
              "    <tr style=\"text-align: right;\">\n",
              "      <th></th>\n",
              "      <th>0</th>\n",
              "      <th>1</th>\n",
              "      <th>2</th>\n",
              "      <th>3</th>\n",
              "      <th>4</th>\n",
              "      <th>5</th>\n",
              "      <th>6</th>\n",
              "      <th>7</th>\n",
              "      <th>8</th>\n",
              "      <th>9</th>\n",
              "      <th>...</th>\n",
              "      <th>language_NL</th>\n",
              "      <th>language_NO</th>\n",
              "      <th>language_OTHER</th>\n",
              "      <th>language_PL</th>\n",
              "      <th>language_PT</th>\n",
              "      <th>language_RU</th>\n",
              "      <th>language_SV</th>\n",
              "      <th>language_TH</th>\n",
              "      <th>language_TR</th>\n",
              "      <th>language_ZH</th>\n",
              "    </tr>\n",
              "  </thead>\n",
              "  <tbody>\n",
              "    <tr>\n",
              "      <th>141493</th>\n",
              "      <td>0.173281</td>\n",
              "      <td>0.171235</td>\n",
              "      <td>0.057012</td>\n",
              "      <td>0.125086</td>\n",
              "      <td>0.094069</td>\n",
              "      <td>-0.325244</td>\n",
              "      <td>0.004957</td>\n",
              "      <td>0.194142</td>\n",
              "      <td>-0.215382</td>\n",
              "      <td>-0.044722</td>\n",
              "      <td>...</td>\n",
              "      <td>0</td>\n",
              "      <td>0</td>\n",
              "      <td>0</td>\n",
              "      <td>0</td>\n",
              "      <td>0</td>\n",
              "      <td>0</td>\n",
              "      <td>0</td>\n",
              "      <td>0</td>\n",
              "      <td>0</td>\n",
              "      <td>0</td>\n",
              "    </tr>\n",
              "    <tr>\n",
              "      <th>116648</th>\n",
              "      <td>-0.120358</td>\n",
              "      <td>0.314686</td>\n",
              "      <td>0.152845</td>\n",
              "      <td>-0.083105</td>\n",
              "      <td>-0.060703</td>\n",
              "      <td>-0.100719</td>\n",
              "      <td>0.040346</td>\n",
              "      <td>0.035818</td>\n",
              "      <td>0.076773</td>\n",
              "      <td>0.154103</td>\n",
              "      <td>...</td>\n",
              "      <td>0</td>\n",
              "      <td>0</td>\n",
              "      <td>0</td>\n",
              "      <td>0</td>\n",
              "      <td>0</td>\n",
              "      <td>0</td>\n",
              "      <td>0</td>\n",
              "      <td>0</td>\n",
              "      <td>0</td>\n",
              "      <td>0</td>\n",
              "    </tr>\n",
              "    <tr>\n",
              "      <th>125430</th>\n",
              "      <td>-0.186884</td>\n",
              "      <td>-0.400275</td>\n",
              "      <td>0.128582</td>\n",
              "      <td>-0.256730</td>\n",
              "      <td>0.143213</td>\n",
              "      <td>-0.220536</td>\n",
              "      <td>0.303987</td>\n",
              "      <td>0.064911</td>\n",
              "      <td>0.001066</td>\n",
              "      <td>0.262726</td>\n",
              "      <td>...</td>\n",
              "      <td>0</td>\n",
              "      <td>0</td>\n",
              "      <td>0</td>\n",
              "      <td>0</td>\n",
              "      <td>0</td>\n",
              "      <td>0</td>\n",
              "      <td>0</td>\n",
              "      <td>0</td>\n",
              "      <td>0</td>\n",
              "      <td>0</td>\n",
              "    </tr>\n",
              "    <tr>\n",
              "      <th>3635</th>\n",
              "      <td>-0.155430</td>\n",
              "      <td>-0.319745</td>\n",
              "      <td>0.344132</td>\n",
              "      <td>0.298644</td>\n",
              "      <td>0.012237</td>\n",
              "      <td>-0.523516</td>\n",
              "      <td>-0.385866</td>\n",
              "      <td>0.056216</td>\n",
              "      <td>0.172886</td>\n",
              "      <td>-0.098504</td>\n",
              "      <td>...</td>\n",
              "      <td>0</td>\n",
              "      <td>0</td>\n",
              "      <td>0</td>\n",
              "      <td>0</td>\n",
              "      <td>0</td>\n",
              "      <td>0</td>\n",
              "      <td>0</td>\n",
              "      <td>0</td>\n",
              "      <td>0</td>\n",
              "      <td>0</td>\n",
              "    </tr>\n",
              "    <tr>\n",
              "      <th>58736</th>\n",
              "      <td>-0.012297</td>\n",
              "      <td>-0.557820</td>\n",
              "      <td>0.079286</td>\n",
              "      <td>-0.353544</td>\n",
              "      <td>-0.075154</td>\n",
              "      <td>-0.281478</td>\n",
              "      <td>-0.285753</td>\n",
              "      <td>-0.027000</td>\n",
              "      <td>-0.089709</td>\n",
              "      <td>0.029142</td>\n",
              "      <td>...</td>\n",
              "      <td>0</td>\n",
              "      <td>0</td>\n",
              "      <td>0</td>\n",
              "      <td>0</td>\n",
              "      <td>0</td>\n",
              "      <td>0</td>\n",
              "      <td>0</td>\n",
              "      <td>0</td>\n",
              "      <td>0</td>\n",
              "      <td>0</td>\n",
              "    </tr>\n",
              "    <tr>\n",
              "      <th>...</th>\n",
              "      <td>...</td>\n",
              "      <td>...</td>\n",
              "      <td>...</td>\n",
              "      <td>...</td>\n",
              "      <td>...</td>\n",
              "      <td>...</td>\n",
              "      <td>...</td>\n",
              "      <td>...</td>\n",
              "      <td>...</td>\n",
              "      <td>...</td>\n",
              "      <td>...</td>\n",
              "      <td>...</td>\n",
              "      <td>...</td>\n",
              "      <td>...</td>\n",
              "      <td>...</td>\n",
              "      <td>...</td>\n",
              "      <td>...</td>\n",
              "      <td>...</td>\n",
              "      <td>...</td>\n",
              "      <td>...</td>\n",
              "      <td>...</td>\n",
              "    </tr>\n",
              "    <tr>\n",
              "      <th>135859</th>\n",
              "      <td>0.061583</td>\n",
              "      <td>-0.313215</td>\n",
              "      <td>0.300760</td>\n",
              "      <td>-0.081361</td>\n",
              "      <td>0.415540</td>\n",
              "      <td>-0.033220</td>\n",
              "      <td>-0.310866</td>\n",
              "      <td>-0.038409</td>\n",
              "      <td>-0.104245</td>\n",
              "      <td>-0.148407</td>\n",
              "      <td>...</td>\n",
              "      <td>0</td>\n",
              "      <td>0</td>\n",
              "      <td>0</td>\n",
              "      <td>0</td>\n",
              "      <td>0</td>\n",
              "      <td>0</td>\n",
              "      <td>0</td>\n",
              "      <td>0</td>\n",
              "      <td>0</td>\n",
              "      <td>0</td>\n",
              "    </tr>\n",
              "    <tr>\n",
              "      <th>89574</th>\n",
              "      <td>0.004667</td>\n",
              "      <td>-0.485985</td>\n",
              "      <td>0.090455</td>\n",
              "      <td>-0.305042</td>\n",
              "      <td>-0.166455</td>\n",
              "      <td>-0.299770</td>\n",
              "      <td>-0.297472</td>\n",
              "      <td>-0.015510</td>\n",
              "      <td>-0.170049</td>\n",
              "      <td>0.014545</td>\n",
              "      <td>...</td>\n",
              "      <td>0</td>\n",
              "      <td>0</td>\n",
              "      <td>0</td>\n",
              "      <td>0</td>\n",
              "      <td>0</td>\n",
              "      <td>0</td>\n",
              "      <td>0</td>\n",
              "      <td>0</td>\n",
              "      <td>0</td>\n",
              "      <td>0</td>\n",
              "    </tr>\n",
              "    <tr>\n",
              "      <th>55524</th>\n",
              "      <td>0.141984</td>\n",
              "      <td>-0.308783</td>\n",
              "      <td>0.295159</td>\n",
              "      <td>0.074422</td>\n",
              "      <td>0.439983</td>\n",
              "      <td>-0.143848</td>\n",
              "      <td>-0.243821</td>\n",
              "      <td>-0.052712</td>\n",
              "      <td>-0.274603</td>\n",
              "      <td>-0.222357</td>\n",
              "      <td>...</td>\n",
              "      <td>0</td>\n",
              "      <td>0</td>\n",
              "      <td>0</td>\n",
              "      <td>0</td>\n",
              "      <td>0</td>\n",
              "      <td>0</td>\n",
              "      <td>0</td>\n",
              "      <td>0</td>\n",
              "      <td>0</td>\n",
              "      <td>0</td>\n",
              "    </tr>\n",
              "    <tr>\n",
              "      <th>25634</th>\n",
              "      <td>0.060242</td>\n",
              "      <td>-0.166870</td>\n",
              "      <td>0.316707</td>\n",
              "      <td>-0.096314</td>\n",
              "      <td>0.409777</td>\n",
              "      <td>0.082441</td>\n",
              "      <td>-0.133928</td>\n",
              "      <td>-0.056733</td>\n",
              "      <td>-0.070828</td>\n",
              "      <td>-0.051065</td>\n",
              "      <td>...</td>\n",
              "      <td>0</td>\n",
              "      <td>0</td>\n",
              "      <td>0</td>\n",
              "      <td>0</td>\n",
              "      <td>0</td>\n",
              "      <td>0</td>\n",
              "      <td>0</td>\n",
              "      <td>0</td>\n",
              "      <td>0</td>\n",
              "      <td>1</td>\n",
              "    </tr>\n",
              "    <tr>\n",
              "      <th>130218</th>\n",
              "      <td>0.089381</td>\n",
              "      <td>-0.263578</td>\n",
              "      <td>0.334961</td>\n",
              "      <td>-0.000810</td>\n",
              "      <td>0.406443</td>\n",
              "      <td>-0.029580</td>\n",
              "      <td>-0.235913</td>\n",
              "      <td>-0.055439</td>\n",
              "      <td>-0.185767</td>\n",
              "      <td>-0.156889</td>\n",
              "      <td>...</td>\n",
              "      <td>0</td>\n",
              "      <td>0</td>\n",
              "      <td>0</td>\n",
              "      <td>0</td>\n",
              "      <td>0</td>\n",
              "      <td>0</td>\n",
              "      <td>0</td>\n",
              "      <td>0</td>\n",
              "      <td>0</td>\n",
              "      <td>0</td>\n",
              "    </tr>\n",
              "  </tbody>\n",
              "</table>\n",
              "<p>8678 rows × 161 columns</p>\n",
              "</div>\n",
              "      <button class=\"colab-df-convert\" onclick=\"convertToInteractive('df-4de39469-2d74-41a6-9716-d71014e6e9b8')\"\n",
              "              title=\"Convert this dataframe to an interactive table.\"\n",
              "              style=\"display:none;\">\n",
              "        \n",
              "  <svg xmlns=\"http://www.w3.org/2000/svg\" height=\"24px\"viewBox=\"0 0 24 24\"\n",
              "       width=\"24px\">\n",
              "    <path d=\"M0 0h24v24H0V0z\" fill=\"none\"/>\n",
              "    <path d=\"M18.56 5.44l.94 2.06.94-2.06 2.06-.94-2.06-.94-.94-2.06-.94 2.06-2.06.94zm-11 1L8.5 8.5l.94-2.06 2.06-.94-2.06-.94L8.5 2.5l-.94 2.06-2.06.94zm10 10l.94 2.06.94-2.06 2.06-.94-2.06-.94-.94-2.06-.94 2.06-2.06.94z\"/><path d=\"M17.41 7.96l-1.37-1.37c-.4-.4-.92-.59-1.43-.59-.52 0-1.04.2-1.43.59L10.3 9.45l-7.72 7.72c-.78.78-.78 2.05 0 2.83L4 21.41c.39.39.9.59 1.41.59.51 0 1.02-.2 1.41-.59l7.78-7.78 2.81-2.81c.8-.78.8-2.07 0-2.86zM5.41 20L4 18.59l7.72-7.72 1.47 1.35L5.41 20z\"/>\n",
              "  </svg>\n",
              "      </button>\n",
              "      \n",
              "  <style>\n",
              "    .colab-df-container {\n",
              "      display:flex;\n",
              "      flex-wrap:wrap;\n",
              "      gap: 12px;\n",
              "    }\n",
              "\n",
              "    .colab-df-convert {\n",
              "      background-color: #E8F0FE;\n",
              "      border: none;\n",
              "      border-radius: 50%;\n",
              "      cursor: pointer;\n",
              "      display: none;\n",
              "      fill: #1967D2;\n",
              "      height: 32px;\n",
              "      padding: 0 0 0 0;\n",
              "      width: 32px;\n",
              "    }\n",
              "\n",
              "    .colab-df-convert:hover {\n",
              "      background-color: #E2EBFA;\n",
              "      box-shadow: 0px 1px 2px rgba(60, 64, 67, 0.3), 0px 1px 3px 1px rgba(60, 64, 67, 0.15);\n",
              "      fill: #174EA6;\n",
              "    }\n",
              "\n",
              "    [theme=dark] .colab-df-convert {\n",
              "      background-color: #3B4455;\n",
              "      fill: #D2E3FC;\n",
              "    }\n",
              "\n",
              "    [theme=dark] .colab-df-convert:hover {\n",
              "      background-color: #434B5C;\n",
              "      box-shadow: 0px 1px 3px 1px rgba(0, 0, 0, 0.15);\n",
              "      filter: drop-shadow(0px 1px 2px rgba(0, 0, 0, 0.3));\n",
              "      fill: #FFFFFF;\n",
              "    }\n",
              "  </style>\n",
              "\n",
              "      <script>\n",
              "        const buttonEl =\n",
              "          document.querySelector('#df-4de39469-2d74-41a6-9716-d71014e6e9b8 button.colab-df-convert');\n",
              "        buttonEl.style.display =\n",
              "          google.colab.kernel.accessAllowed ? 'block' : 'none';\n",
              "\n",
              "        async function convertToInteractive(key) {\n",
              "          const element = document.querySelector('#df-4de39469-2d74-41a6-9716-d71014e6e9b8');\n",
              "          const dataTable =\n",
              "            await google.colab.kernel.invokeFunction('convertToInteractive',\n",
              "                                                     [key], {});\n",
              "          if (!dataTable) return;\n",
              "\n",
              "          const docLinkHtml = 'Like what you see? Visit the ' +\n",
              "            '<a target=\"_blank\" href=https://colab.research.google.com/notebooks/data_table.ipynb>data table notebook</a>'\n",
              "            + ' to learn more about interactive tables.';\n",
              "          element.innerHTML = '';\n",
              "          dataTable['output_type'] = 'display_data';\n",
              "          await google.colab.output.renderOutput(dataTable, element);\n",
              "          const docLink = document.createElement('div');\n",
              "          docLink.innerHTML = docLinkHtml;\n",
              "          element.appendChild(docLink);\n",
              "        }\n",
              "      </script>\n",
              "    </div>\n",
              "  </div>\n",
              "  "
            ]
          },
          "metadata": {},
          "execution_count": 79
        }
      ]
    },
    {
      "cell_type": "markdown",
      "source": [
        "## Set target and features for training"
      ],
      "metadata": {
        "id": "rG-M4QJdjjBk"
      }
    },
    {
      "cell_type": "code",
      "execution_count": null,
      "outputs": [],
      "source": [
        "target = nodes2.filter(like='language').columns.tolist()\n",
        "features = nodes2.columns.difference(target + ['id', 'views', 'mature', 'life_time', 'dead_account', 'affiliate', 'created_at_year', 'created_at_month', 'created_at_day', 'updated_at_year', 'updated_at_month', 'updated_at_day'], sort=False)"
      ],
      "metadata": {
        "id": "fnvGHo9I71qv"
      }
    },
    {
      "cell_type": "code",
      "source": [
        "print(target)\n",
        "print(features.tolist())"
      ],
      "metadata": {
        "colab": {
          "base_uri": "https://localhost:8080/"
        },
        "id": "7OvNiQrFEpCo",
        "outputId": "b4396e8b-e9a9-4c29-a588-82372e037953"
      },
      "execution_count": null,
      "outputs": [
        {
          "output_type": "stream",
          "name": "stdout",
          "text": [
            "['language_CS', 'language_DA', 'language_DE', 'language_EN', 'language_ES', 'language_FI', 'language_FR', 'language_HU', 'language_IT', 'language_JA', 'language_KO', 'language_NL', 'language_NO', 'language_OTHER', 'language_PL', 'language_PT', 'language_RU', 'language_SV', 'language_TH', 'language_TR', 'language_ZH']\n",
            "[0, 1, 2, 3, 4, 5, 6, 7, 8, 9, 10, 11, 12, 13, 14, 15, 16, 17, 18, 19, 20, 21, 22, 23, 24, 25, 26, 27, 28, 29, 30, 31, 32, 33, 34, 35, 36, 37, 38, 39, 40, 41, 42, 43, 44, 45, 46, 47, 48, 49, 50, 51, 52, 53, 54, 55, 56, 57, 58, 59, 60, 61, 62, 63, 64, 65, 66, 67, 68, 69, 70, 71, 72, 73, 74, 75, 76, 77, 78, 79, 80, 81, 82, 83, 84, 85, 86, 87, 88, 89, 90, 91, 92, 93, 94, 95, 96, 97, 98, 99, 100, 101, 102, 103, 104, 105, 106, 107, 108, 109, 110, 111, 112, 113, 114, 115, 116, 117, 118, 119, 120, 121, 122, 123, 124, 125, 126, 127]\n"
          ]
        }
      ]
    },
    {
      "cell_type": "markdown",
      "source": [
        "# Dataset"
      ],
      "metadata": {
        "id": "giyHnB4tjrR8"
      }
    },
    {
      "cell_type": "code",
      "execution_count": null,
      "outputs": [],
      "source": [
        "X = np.asarray(nodes2[features].values)\n",
        "y = np.asarray(nodes2[target].values)"
      ],
      "metadata": {
        "id": "CcZ33hpF71qw"
      }
    },
    {
      "cell_type": "markdown",
      "source": [],
      "metadata": {
        "id": "2gshwCJmjv6T"
      }
    },
    {
      "cell_type": "code",
      "source": [
        "np.unique(np.argmax(y, axis=1), return_counts=True)"
      ],
      "metadata": {
        "colab": {
          "base_uri": "https://localhost:8080/"
        },
        "id": "OAia2Yfr037d",
        "outputId": "96734ff1-9a02-4dfa-bea4-8a9f7a6a24a1"
      },
      "execution_count": null,
      "outputs": [
        {
          "output_type": "execute_result",
          "data": {
            "text/plain": [
              "(array([ 0,  1,  2,  3,  4,  5,  6,  7,  8,  9, 10, 11, 12, 13, 14, 15, 16,\n",
              "        17, 18, 19, 20]),\n",
              " array([  12,   21,   74, 8226,   46,   14,   35,    2,   10,    5,    3,\n",
              "          34,   19,   57,    5,   38,   21,   31,    2,    7,   16]))"
            ]
          },
          "metadata": {},
          "execution_count": 142
        }
      ]
    },
    {
      "cell_type": "markdown",
      "source": [],
      "metadata": {
        "id": "KkbXI_jMjw0L"
      }
    },
    {
      "cell_type": "code",
      "source": [
        "counts = np.unique(np.argmax(y, axis=1), return_counts=True)[1]\n",
        "counts/ counts.sum()"
      ],
      "metadata": {
        "colab": {
          "base_uri": "https://localhost:8080/"
        },
        "id": "J6wFvlD2BfAO",
        "outputId": "0e4aff54-6305-4f4e-dac0-7408103bfddf"
      },
      "execution_count": null,
      "outputs": [
        {
          "output_type": "execute_result",
          "data": {
            "text/plain": [
              "array([1.38280710e-03, 2.41991242e-03, 8.52731044e-03, 9.47914266e-01,\n",
              "       5.30076054e-03, 1.61327495e-03, 4.03318737e-03, 2.30467850e-04,\n",
              "       1.15233925e-03, 5.76169624e-04, 3.45701775e-04, 3.91795345e-03,\n",
              "       2.18944457e-03, 6.56833372e-03, 5.76169624e-04, 4.37888914e-03,\n",
              "       2.41991242e-03, 3.57225167e-03, 2.30467850e-04, 8.06637474e-04,\n",
              "       1.84374280e-03])"
            ]
          },
          "metadata": {},
          "execution_count": 143
        }
      ]
    },
    {
      "cell_type": "markdown",
      "source": [
        "## Class distribution"
      ],
      "metadata": {
        "id": "r2xFwSuUjyds"
      }
    },
    {
      "cell_type": "code",
      "source": [
        "\n",
        "import matplotlib.pyplot as plt\n",
        "\n",
        "# class labels\n",
        "labels = [t.split(\"_\")[1] for t in target ]\n",
        "\n",
        "# number of instances for each class\n",
        "instances = np.unique(np.argmax(y, axis=1), return_counts=True)[1]\n",
        "\n",
        "# create bar chart\n",
        "plt.bar(labels, instances)\n",
        "plt.title('Class Distribution')\n",
        "plt.xlabel('Class')\n",
        "plt.ylabel('Number of Instances')\n",
        "plt.show()"
      ],
      "metadata": {
        "colab": {
          "base_uri": "https://localhost:8080/",
          "height": 472
        },
        "id": "9rV5nvDU2GWd",
        "outputId": "fe426a12-88fe-4081-faf4-02f5c694f7ca"
      },
      "execution_count": null,
      "outputs": [
        {
          "output_type": "display_data",
          "data": {
            "text/plain": [
              "<Figure size 640x480 with 1 Axes>"
            ],
            "image/png": "[encoded data removed]"
          },
          "metadata": {}
        }
      ]
    },
    {
      "cell_type": "markdown",
      "source": [
        "## Compute class weights"
      ],
      "metadata": {
        "id": "dJRP1Czaj1IX"
      }
    },
    {
      "cell_type": "code",
      "source": [
        "from sklearn.utils.class_weight import compute_class_weight\n",
        "class_weight = compute_class_weight(class_weight='balanced',\n",
        "                                    classes=np.unique(np.argmax(y, axis=1)),\n",
        "                                    y=np.argmax(y, axis=1))\n",
        "list(class_weight)"
      ],
      "metadata": {
        "colab": {
          "base_uri": "https://localhost:8080/"
        },
        "id": "C42Aa7TZ0z7q",
        "outputId": "677bcee9-f254-414c-9664-6b2ffe5f96e7"
      },
      "execution_count": null,
      "outputs": [
        {
          "output_type": "execute_result",
          "data": {
            "text/plain": [
              "[34.43650793650794,\n",
              " 19.67800453514739,\n",
              " 5.584298584298584,\n",
              " 0.050235606034293126,\n",
              " 8.98343685300207,\n",
              " 29.517006802721088,\n",
              " 11.806802721088435,\n",
              " 206.61904761904762,\n",
              " 41.32380952380952,\n",
              " 82.64761904761905,\n",
              " 137.74603174603175,\n",
              " 12.15406162464986,\n",
              " 21.74937343358396,\n",
              " 7.249791144527987,\n",
              " 82.64761904761905,\n",
              " 10.87468671679198,\n",
              " 19.67800453514739,\n",
              " 13.33026113671275,\n",
              " 206.61904761904762,\n",
              " 59.034013605442176,\n",
              " 25.827380952380953]"
            ]
          },
          "metadata": {},
          "execution_count": 86
        }
      ]
    },
    {
      "cell_type": "code",
      "source": [],
      "metadata": {
        "id": "8nGHOcnU1WUy"
      },
      "execution_count": null,
      "outputs": []
    },
    {
      "cell_type": "code",
      "source": [
        "len(nodes2.loc[nodes2['language_EN'] == 0])"
      ],
      "metadata": {
        "colab": {
          "base_uri": "https://localhost:8080/"
        },
        "id": "AN0l7X4PlP-j",
        "outputId": "e8715ad1-5c1d-4135-be0a-b53076e01c94"
      },
      "execution_count": null,
      "outputs": [
        {
          "output_type": "execute_result",
          "data": {
            "text/plain": [
              "452"
            ]
          },
          "metadata": {},
          "execution_count": 144
        }
      ]
    },
    {
      "cell_type": "markdown",
      "source": [
        "## Edge index"
      ],
      "metadata": {
        "id": "kaIOHl0Qj4kb"
      }
    },
    {
      "cell_type": "code",
      "execution_count": null,
      "outputs": [],
      "source": [
        "adj = nx.to_scipy_sparse_array(H).tocoo()\n",
        "row = torch.from_numpy(adj.row.astype(np.int64))\n",
        "col = torch.from_numpy(adj.col.astype(np.int64))\n",
        "edge_index = torch.stack([row, col], dim=0)"
      ],
      "metadata": {
        "id": "jHFn8sCi71qy"
      }
    },
    {
      "cell_type": "code",
      "execution_count": null,
      "outputs": [
        {
          "output_type": "stream",
          "name": "stdout",
          "text": [
            "(8678, 128)\n",
            "(8678, 21)\n",
            "torch.Size([2, 20000])\n"
          ]
        }
      ],
      "source": [
        "print(X.shape)\n",
        "print(y.shape)\n",
        "print(edge_index.shape)"
      ],
      "metadata": {
        "colab": {
          "base_uri": "https://localhost:8080/"
        },
        "id": "cCSo6GRF71qy",
        "outputId": "32573fe6-6617-4684-cd7a-ab5227c82e9a"
      }
    },
    {
      "cell_type": "markdown",
      "source": [
        "## Create dataset"
      ],
      "metadata": {
        "id": "LaFFbn_aj8Qs"
      }
    },
    {
      "cell_type": "code",
      "execution_count": null,
      "outputs": [],
      "source": [
        "\n",
        "from sklearn.model_selection import train_test_split\n",
        "from torch_geometric.data import Data, InMemoryDataset, Dataset\n",
        "from torch_geometric.loader import DataLoader\n",
        "\n",
        "class CustomDataset(InMemoryDataset):\n",
        "    def __init__(self, transform=None):\n",
        "        super(CustomDataset, self).__init__('.', transform, None, None)\n",
        "\n",
        "        data = Data(edge_index=edge_index)\n",
        "        data.x = torch.from_numpy(X).type(torch.float32)\n",
        "        data.y = torch.from_numpy(y).type(torch.float32)\n",
        "        data.num_classes = len(y[0])\n",
        "\n",
        "        integer_encoded = np.argmax(y, axis=1)\n",
        "\n",
        "        X_train, X_test, y_train, y_test = train_test_split(pd.Series(X[:,0]),\n",
        "                                                            pd.Series(y[:,0]),\n",
        "                                                            test_size=0.30,\n",
        "                                                            stratify=integer_encoded,\n",
        "                                                            random_state=42)\n",
        "        # create train and test masks for data\n",
        "        train_mask = torch.zeros(data.num_nodes, dtype=torch.bool)\n",
        "        test_mask = torch.zeros(data.num_nodes, dtype=torch.bool)\n",
        "        train_mask[X_train.index] = True\n",
        "        test_mask[X_test.index] = True\n",
        "        data['train_mask'] = train_mask\n",
        "        data['test_mask'] = test_mask\n",
        "\n",
        "        self.data, self.slices = self.collate([data])"
      ],
      "metadata": {
        "id": "teyYTLCf71qz"
      }
    },
    {
      "cell_type": "markdown",
      "source": [
        "## Dataset info"
      ],
      "metadata": {
        "id": "3gdVB9t5j_d2"
      }
    },
    {
      "cell_type": "code",
      "source": [
        "dataset = CustomDataset()\n",
        "data = dataset[0]  # Get the first graph object.\n",
        "\n",
        "print()\n",
        "print(data)\n",
        "print('===========================================================================================================')\n",
        "\n",
        "# Gather some statistics about the graph.\n",
        "print(f'Number of nodes: {data.num_nodes}')\n",
        "print(f'Number of edges: {data.num_edges}')\n",
        "print(f'Average node degree: {data.num_edges / data.num_nodes:.2f}')\n",
        "# print(f'Number of training nodes: {data.train_mask.sum()}')\n",
        "# print(f'Training node label rate: {int(data.train_mask.sum()) / data.num_nodes:.2f}')\n",
        "print(f'Has isolated nodes: {data.has_isolated_nodes()}')\n",
        "print(f'Has self-loops: {data.has_self_loops()}')\n",
        "print(f'Is undirected: {data.is_undirected()}')"
      ],
      "metadata": {
        "colab": {
          "base_uri": "https://localhost:8080/"
        },
        "id": "4OFwhxnUFZmn",
        "outputId": "9b9d99d0-6529-492c-edb5-56036e0a1899"
      },
      "execution_count": null,
      "outputs": [
        {
          "output_type": "stream",
          "name": "stdout",
          "text": [
            "\n",
            "Data(edge_index=[2, 20000], x=[8678, 128], y=[8678, 21], num_classes=21, train_mask=[8678], test_mask=[8678])\n",
            "===========================================================================================================\n",
            "Number of nodes: 8678\n",
            "Number of edges: 20000\n",
            "Average node degree: 2.30\n",
            "Has isolated nodes: False\n",
            "Has self-loops: False\n",
            "Is undirected: True\n"
          ]
        }
      ]
    },
    {
      "cell_type": "code",
      "source": [
        "np.unique(np.argmax(data.y[data.test_mask], axis=1))"
      ],
      "metadata": {
        "colab": {
          "base_uri": "https://localhost:8080/"
        },
        "id": "meJMMr958hcV",
        "outputId": "c72b9d65-f03b-4fdd-e813-5e7f1ad56898"
      },
      "execution_count": null,
      "outputs": [
        {
          "output_type": "execute_result",
          "data": {
            "text/plain": [
              "array([ 0,  1,  2,  3,  4,  5,  6,  7,  8,  9, 10, 11, 12, 13, 14, 15, 16,\n",
              "       17, 18, 19, 20])"
            ]
          },
          "metadata": {},
          "execution_count": 149
        }
      ]
    },
    {
      "cell_type": "code",
      "source": [
        "nodes2.loc['155649']"
      ],
      "metadata": {
        "colab": {
          "base_uri": "https://localhost:8080/"
        },
        "id": "wXlakKXtAPT3",
        "outputId": "a740ecbb-74f1-4094-febd-72222952ca8b"
      },
      "execution_count": null,
      "outputs": [
        {
          "output_type": "execute_result",
          "data": {
            "text/plain": [
              "0             -0.035722\n",
              "1              0.253555\n",
              "2              0.112876\n",
              "3             -0.100739\n",
              "4             -0.082656\n",
              "                 ...   \n",
              "language_RU    0.000000\n",
              "language_SV    0.000000\n",
              "language_TH    0.000000\n",
              "language_TR    0.000000\n",
              "language_ZH    0.000000\n",
              "Name: 155649, Length: 161, dtype: float64"
            ]
          },
          "metadata": {},
          "execution_count": 150
        }
      ]
    },
    {
      "cell_type": "code",
      "source": [
        "import random\n",
        "from torch_geometric.utils import to_networkx\n",
        "import networkx as nx\n",
        "\n",
        "n_sample = 2000\n",
        "y_enc = np.argmax(data.y.numpy(), axis=1)\n",
        "\n",
        "sampled_nodes = np.random.choice(H.nodes, n_sample)\n",
        "H_sub = H.subgraph(sampled_nodes)\n",
        "\n",
        "# y_sub = y_enc[H_sub.nodes]\n",
        "\n",
        "plt.figure(figsize=(9, 7))\n",
        "nx.draw_spring(H_sub, node_size=30, arrows=False, )\n",
        "plt.show()\n",
        "\n"
      ],
      "metadata": {
        "id": "1I137149FZsO",
        "colab": {
          "base_uri": "https://localhost:8080/",
          "height": 736
        },
        "outputId": "d1a03d83-dc04-4c85-deca-034c4b04dddc"
      },
      "execution_count": null,
      "outputs": [
        {
          "output_type": "display_data",
          "data": {
            "text/plain": [
              "<Figure size 900x700 with 1 Axes>"
            ],
            "image/png": "[encoded data removed]"
          },
          "metadata": {}
        }
      ]
    },
    {
      "cell_type": "code",
      "source": [
        "# import torch_geometric.transforms as T\n",
        "\n",
        "# split = T.RandomNodeSplit(num_val=0.1,  num_test=0.2)\n",
        "# data = split(data)"
      ],
      "metadata": {
        "id": "mxeIX9DoFZ1F"
      },
      "execution_count": null,
      "outputs": []
    },
    {
      "cell_type": "markdown",
      "source": [
        "# Models"
      ],
      "metadata": {
        "id": "UNHx4wx3kC0D"
      }
    },
    {
      "cell_type": "code",
      "source": [
        "from torchmetrics import AUROC, Accuracy\n",
        "def train_node_classifier(model, graph, optimizer, criterion, n_epochs=200):\n",
        "\n",
        "    for epoch in range(1, n_epochs + 1):\n",
        "        model.train()\n",
        "        optimizer.zero_grad()\n",
        "        out, _ = model(graph)\n",
        "        loss = criterion(out[graph.train_mask], graph.y[graph.train_mask])\n",
        "        loss.backward()\n",
        "        optimizer.step()\n",
        "\n",
        "        pred = out.argmax(dim=1)\n",
        "        acc, auc = eval_node_classifier(model, graph, graph.train_mask)\n",
        "\n",
        "        if epoch % 10 == 0:\n",
        "            print(f'Epoch: {epoch:03d}, Train Loss: {loss:.3f}, Acc: {acc:.3f}, AUC: {auc:.3f}')\n",
        "\n",
        "    return model\n",
        "\n",
        "\n",
        "def eval_node_classifier(model, data, mask):\n",
        "\n",
        "    model.eval()\n",
        "    preds, _ = model(data)\n",
        "    preds = preds[data.test_mask]\n",
        "    trues = data.y.argmax(dim=1)[data.test_mask]\n",
        "    accuracy = Accuracy(task=\"multiclass\", num_classes=dataset.num_classes).to(device)\n",
        "    acc = accuracy(preds.argmax(dim=1),  trues)\n",
        "\n",
        "    auroc = AUROC(task=\"multiclass\", num_classes=dataset.num_classes).to(device)\n",
        "    auc = auroc(preds,  trues)\n",
        "    return acc, auc\n"
      ],
      "metadata": {
        "id": "RpgnwicRvqW-"
      },
      "execution_count": null,
      "outputs": []
    },
    {
      "cell_type": "markdown",
      "source": [
        "Visualize function"
      ],
      "metadata": {
        "id": "8M-9Pg_OnGwL"
      }
    },
    {
      "cell_type": "code",
      "source": [
        "# Helper function for visualization.\n",
        "%matplotlib inline\n",
        "import matplotlib.pyplot as plt\n",
        "from sklearn.manifold import TSNE\n",
        "from sklearn.decomposition import PCA\n",
        "from matplotlib import colormaps\n",
        "\n",
        "cm = colormaps['tab20']\n",
        "cm = [cm.colors[i] for i in range(len(cm.colors))] + [(0.0,0.0,0.0)]\n",
        "print(cm)\n",
        "\n",
        "def visualize(h, labels):\n",
        "    z = PCA(n_components=2).fit_transform(h.cpu().detach().numpy())\n",
        "\n",
        "    classes  =np.unique(labels)\n",
        "    fig, ax = plt.subplots(figsize=(10,10))\n",
        "\n",
        "    for c in classes:\n",
        "      idx = np.where(labels==c)\n",
        "      plt.scatter(z[idx, 0], z[idx, 1], label=f'{c}',s=70, c=cm[c])\n",
        "\n",
        "    plt.legend()\n",
        "    plt.show()"
      ],
      "metadata": {
        "id": "brD15P6o96mQ",
        "colab": {
          "base_uri": "https://localhost:8080/"
        },
        "outputId": "9722f334-a7cf-4805-b6ca-386902fd204f"
      },
      "execution_count": null,
      "outputs": [
        {
          "output_type": "stream",
          "name": "stdout",
          "text": [
            "[(0.12156862745098039, 0.4666666666666667, 0.7058823529411765), (0.6823529411764706, 0.7803921568627451, 0.9098039215686274), (1.0, 0.4980392156862745, 0.054901960784313725), (1.0, 0.7333333333333333, 0.47058823529411764), (0.17254901960784313, 0.6274509803921569, 0.17254901960784313), (0.596078431372549, 0.8745098039215686, 0.5411764705882353), (0.8392156862745098, 0.15294117647058825, 0.1568627450980392), (1.0, 0.596078431372549, 0.5882352941176471), (0.5803921568627451, 0.403921568627451, 0.7411764705882353), (0.7725490196078432, 0.6901960784313725, 0.8352941176470589), (0.5490196078431373, 0.33725490196078434, 0.29411764705882354), (0.7686274509803922, 0.611764705882353, 0.5803921568627451), (0.8901960784313725, 0.4666666666666667, 0.7607843137254902), (0.9686274509803922, 0.7137254901960784, 0.8235294117647058), (0.4980392156862745, 0.4980392156862745, 0.4980392156862745), (0.7803921568627451, 0.7803921568627451, 0.7803921568627451), (0.7372549019607844, 0.7411764705882353, 0.13333333333333333), (0.8588235294117647, 0.8588235294117647, 0.5529411764705883), (0.09019607843137255, 0.7450980392156863, 0.8117647058823529), (0.6196078431372549, 0.8549019607843137, 0.8980392156862745), (0.0, 0.0, 0.0)]\n"
          ]
        }
      ]
    },
    {
      "cell_type": "code",
      "source": [
        "def visualize_features(model, data, device, n):\n",
        "  model.to(device)\n",
        "  model.eval()\n",
        "\n",
        "  data.to(device)\n",
        "\n",
        "  _, features = model(data)\n",
        "  y_enc = np.argmax(data.y.cpu().detach().numpy(), axis=1)\n",
        "  visualize(features[:n], labels=y_enc[:n])"
      ],
      "metadata": {
        "id": "uiifeqRRsE7X"
      },
      "execution_count": null,
      "outputs": []
    },
    {
      "cell_type": "markdown",
      "source": [
        "Device"
      ],
      "metadata": {
        "id": "c6F_MegwkE1E"
      }
    },
    {
      "cell_type": "code",
      "source": [
        "device = torch.device('cuda' if torch.cuda.is_available() else 'cpu')"
      ],
      "metadata": {
        "id": "o0kiI3PHK23A"
      },
      "execution_count": null,
      "outputs": []
    },
    {
      "cell_type": "code",
      "source": [
        "data.to(device)"
      ],
      "metadata": {
        "colab": {
          "base_uri": "https://localhost:8080/"
        },
        "id": "pw6NwXjosi_q",
        "outputId": "bf0f636d-48b6-44bc-c30e-7413309b28af"
      },
      "execution_count": null,
      "outputs": [
        {
          "output_type": "execute_result",
          "data": {
            "text/plain": [
              "Data(edge_index=[2, 20000], x=[8678, 128], y=[8678, 21], num_classes=21, train_mask=[8678], test_mask=[8678])"
            ]
          },
          "metadata": {},
          "execution_count": 154
        }
      ]
    },
    {
      "cell_type": "markdown",
      "source": [
        "## MLP"
      ],
      "metadata": {
        "id": "So2j_GS0-TX7"
      }
    },
    {
      "cell_type": "code",
      "source": [
        "import torch\n",
        "from torch.nn import Linear\n",
        "import torch.nn.functional as F\n",
        "\n",
        "\n",
        "class MLP(torch.nn.Module):\n",
        "    def __init__(self):\n",
        "        super().__init__()\n",
        "        torch.manual_seed(12345)\n",
        "        self.lin1 = Linear(dataset.num_features, 32)\n",
        "        self.lin2 = Linear(32, dataset.num_classes)\n",
        "\n",
        "    def forward(self, data):\n",
        "        x = data.x\n",
        "        features = F.relu(self.lin1(x))\n",
        "        features = F.dropout(features, p=0.5, training=self.training)\n",
        "        logits = self.lin2(features)\n",
        "        out = F.softmax(logits, dim=1)\n",
        "        return out, features\n",
        "\n",
        "mlp = MLP().to(device)\n",
        "print(mlp)"
      ],
      "metadata": {
        "colab": {
          "base_uri": "https://localhost:8080/"
        },
        "id": "Ur36chWa-UrB",
        "outputId": "9970a822-b12f-4910-82db-348e6f2ee792"
      },
      "execution_count": null,
      "outputs": [
        {
          "output_type": "stream",
          "name": "stdout",
          "text": [
            "MLP(\n",
            "  (lin1): Linear(in_features=128, out_features=32, bias=True)\n",
            "  (lin2): Linear(in_features=32, out_features=21, bias=True)\n",
            ")\n"
          ]
        }
      ]
    },
    {
      "cell_type": "markdown",
      "source": [
        "### Evaluate before training\n"
      ],
      "metadata": {
        "id": "hP-e7A_RmS5v"
      }
    },
    {
      "cell_type": "code",
      "source": [
        "test_acc, test_auc = eval_node_classifier(mlp, data, data.test_mask)\n",
        "print(f'Test Acc: {test_acc:.3f}, Test auc: {test_auc:.3f}')"
      ],
      "metadata": {
        "colab": {
          "base_uri": "https://localhost:8080/"
        },
        "id": "vcj7oNlkvv2O",
        "outputId": "e21c489a-22d4-41ae-f154-55464538c96e"
      },
      "execution_count": null,
      "outputs": [
        {
          "output_type": "stream",
          "name": "stdout",
          "text": [
            "Test Acc: 0.001, Test auc: 0.522\n"
          ]
        }
      ]
    },
    {
      "cell_type": "markdown",
      "source": [
        "### Visualization of the node embeddings before training"
      ],
      "metadata": {
        "id": "cWQnecDJkItR"
      }
    },
    {
      "cell_type": "code",
      "source": [
        "visualize_features(mlp, data, device, 1000)"
      ],
      "metadata": {
        "colab": {
          "base_uri": "https://localhost:8080/",
          "height": 886
        },
        "id": "C8Mtt7zbU_zU",
        "outputId": "7bc6fb3f-6b69-4f5a-bf2c-f5b3a59a8e57"
      },
      "execution_count": null,
      "outputs": [
        {
          "output_type": "stream",
          "name": "stderr",
          "text": [
            "<ipython-input-152-cc07ab43160d>:20: UserWarning: *c* argument looks like a single numeric RGB or RGBA sequence, which should be avoided as value-mapping will have precedence in case its length matches with *x* & *y*.  Please use the *color* keyword-argument or provide a 2D array with a single row if you intend to specify the same RGB or RGBA value for all points.\n",
            "  plt.scatter(z[idx, 0], z[idx, 1], label=f'{c}',s=70, c=cm[c])\n"
          ]
        },
        {
          "output_type": "display_data",
          "data": {
            "text/plain": [
              "<Figure size 1000x1000 with 1 Axes>"
            ],
            "image/png": "[encoded data removed]"
          },
          "metadata": {}
        }
      ]
    },
    {
      "cell_type": "markdown",
      "source": [
        "### Training"
      ],
      "metadata": {
        "id": "lm74DL3ZkTtj"
      }
    },
    {
      "cell_type": "code",
      "source": [
        "optimizer = torch.optim.Adam(mlp.parameters(), lr=0.01, weight_decay=5e-4)\n",
        "\n",
        "class_weights = torch.FloatTensor(class_weight).to(device)\n",
        "criterion = torch.nn.CrossEntropyLoss(weight=class_weights)\n",
        "\n",
        "mlp = train_node_classifier(mlp, data, optimizer, criterion, n_epochs=100)\n"
      ],
      "metadata": {
        "colab": {
          "base_uri": "https://localhost:8080/"
        },
        "id": "2J_cUMX4s76W",
        "outputId": "5d35c84c-3584-4685-d8d6-98c33945c487"
      },
      "execution_count": null,
      "outputs": [
        {
          "output_type": "stream",
          "name": "stdout",
          "text": [
            "Epoch: 010, Train Loss: 2.952, Acc: 0.035, AUC: 0.488\n",
            "Epoch: 020, Train Loss: 2.945, Acc: 0.003, AUC: 0.524\n",
            "Epoch: 030, Train Loss: 2.936, Acc: 0.002, AUC: 0.512\n",
            "Epoch: 040, Train Loss: 2.919, Acc: 0.002, AUC: 0.496\n",
            "Epoch: 050, Train Loss: 2.909, Acc: 0.003, AUC: 0.506\n",
            "Epoch: 060, Train Loss: 2.902, Acc: 0.002, AUC: 0.514\n",
            "Epoch: 070, Train Loss: 2.872, Acc: 0.003, AUC: 0.516\n",
            "Epoch: 080, Train Loss: 2.833, Acc: 0.002, AUC: 0.523\n",
            "Epoch: 090, Train Loss: 2.873, Acc: 0.002, AUC: 0.532\n",
            "Epoch: 100, Train Loss: 2.852, Acc: 0.002, AUC: 0.519\n"
          ]
        }
      ]
    },
    {
      "cell_type": "markdown",
      "source": [
        "### Evaluate after training\n"
      ],
      "metadata": {
        "id": "Imv6DVbypxaq"
      }
    },
    {
      "cell_type": "code",
      "source": [
        "test_acc, test_auc = eval_node_classifier(mlp, data, data.test_mask)\n",
        "print(f'Test Acc: {test_acc:.3f}, Test auc: {test_auc:.3f}')"
      ],
      "metadata": {
        "colab": {
          "base_uri": "https://localhost:8080/"
        },
        "id": "pwm1eeq3pxas",
        "outputId": "b1ba7aca-ced0-4527-da92-d6eaf51faa1a"
      },
      "execution_count": null,
      "outputs": [
        {
          "output_type": "stream",
          "name": "stdout",
          "text": [
            "Test Acc: 0.002, Test auc: 0.519\n"
          ]
        }
      ]
    },
    {
      "cell_type": "markdown",
      "source": [
        "### Visualization of the node embeddings after training"
      ],
      "metadata": {
        "id": "R5xI7p8bkYUe"
      }
    },
    {
      "cell_type": "code",
      "source": [
        "visualize_features(mlp, data, device, 1000)"
      ],
      "metadata": {
        "colab": {
          "base_uri": "https://localhost:8080/",
          "height": 886
        },
        "id": "x0nZnPUFV_o4",
        "outputId": "a659234b-982d-45c6-f5a4-a1b6ddae3fa1"
      },
      "execution_count": null,
      "outputs": [
        {
          "output_type": "stream",
          "name": "stderr",
          "text": [
            "<ipython-input-152-cc07ab43160d>:20: UserWarning: *c* argument looks like a single numeric RGB or RGBA sequence, which should be avoided as value-mapping will have precedence in case its length matches with *x* & *y*.  Please use the *color* keyword-argument or provide a 2D array with a single row if you intend to specify the same RGB or RGBA value for all points.\n",
            "  plt.scatter(z[idx, 0], z[idx, 1], label=f'{c}',s=70, c=cm[c])\n"
          ]
        },
        {
          "output_type": "display_data",
          "data": {
            "text/plain": [
              "<Figure size 1000x1000 with 1 Axes>"
            ],
            "image/png": "[encoded data removed]"
          },
          "metadata": {}
        }
      ]
    },
    {
      "cell_type": "markdown",
      "source": [
        "## GNN GCNConv"
      ],
      "metadata": {
        "id": "Kin8Bk9m-R9B"
      }
    },
    {
      "cell_type": "code",
      "execution_count": null,
      "outputs": [
        {
          "output_type": "stream",
          "name": "stdout",
          "text": [
            "GCN(\n",
            "  (conv1): GCNConv(128, 16)\n",
            "  (conv2): GCNConv(16, 16)\n",
            "  (classifier): Linear(in_features=16, out_features=21, bias=True)\n",
            ")\n"
          ]
        }
      ],
      "source": [
        "import torch.nn as nn\n",
        "import torch.nn.functional as F\n",
        "from torch_geometric.nn import GCNConv\n",
        "\n",
        "class GCN(torch.nn.Module):\n",
        "    def __init__(self):\n",
        "        super().__init__()\n",
        "        torch.manual_seed(1234567)\n",
        "        self.conv1 = GCNConv(dataset.num_features, 16, add_self_loops=False, improved=True, normalize=True)\n",
        "        self.conv2 = GCNConv(16, 16, add_self_loops=False, improved=True, normalize=True)\n",
        "        self.classifier = Linear(16, dataset.num_classes)\n",
        "\n",
        "    def forward(self, data):\n",
        "        x, edge_index = data.x, data.edge_index\n",
        "        x = F.relu(self.conv1(x, edge_index))\n",
        "        x = F.dropout(x, p=0.5, training=self.training)\n",
        "        features = F.relu(self.conv2(x, edge_index))\n",
        "        features = F.dropout(features, p=0.2, training=self.training)\n",
        "\n",
        "        out = self.classifier(features)\n",
        "\n",
        "        return out, features\n",
        "\n",
        "gcn = GCN().to(device)\n",
        "print(gcn)"
      ],
      "metadata": {
        "id": "jHDhqFZW71qz",
        "colab": {
          "base_uri": "https://localhost:8080/"
        },
        "outputId": "f2683699-ce39-432a-eafb-cb0a80cc6e49"
      }
    },
    {
      "cell_type": "markdown",
      "source": [
        "### Evaluate before training"
      ],
      "metadata": {
        "id": "j0tmS8Qgphw6"
      }
    },
    {
      "cell_type": "code",
      "source": [
        "test_acc, test_auc = eval_node_classifier(gcn, data, data.test_mask)\n",
        "print(f'Test Acc: {test_acc:.3f}, Test auc: {test_auc:.3f}')"
      ],
      "metadata": {
        "colab": {
          "base_uri": "https://localhost:8080/"
        },
        "id": "bZ6H_GKvm3dk",
        "outputId": "afefdd8d-3cb9-4481-8d0b-67a40f2f16b6"
      },
      "execution_count": null,
      "outputs": [
        {
          "output_type": "stream",
          "name": "stdout",
          "text": [
            "Test Acc: 0.002, Test auc: 0.483\n"
          ]
        }
      ]
    },
    {
      "cell_type": "markdown",
      "source": [
        "### Visualization of the node embeddings before training"
      ],
      "metadata": {
        "id": "IDdobTR_kb6h"
      }
    },
    {
      "cell_type": "code",
      "source": [
        "visualize_features(gcn, data, device, 2000)"
      ],
      "metadata": {
        "colab": {
          "base_uri": "https://localhost:8080/",
          "height": 886
        },
        "id": "6LazXIKaXeU6",
        "outputId": "fdb2dc18-6c48-424a-a03a-32560b28e2be"
      },
      "execution_count": null,
      "outputs": [
        {
          "output_type": "stream",
          "name": "stderr",
          "text": [
            "<ipython-input-152-cc07ab43160d>:20: UserWarning: *c* argument looks like a single numeric RGB or RGBA sequence, which should be avoided as value-mapping will have precedence in case its length matches with *x* & *y*.  Please use the *color* keyword-argument or provide a 2D array with a single row if you intend to specify the same RGB or RGBA value for all points.\n",
            "  plt.scatter(z[idx, 0], z[idx, 1], label=f'{c}',s=70, c=cm[c])\n"
          ]
        },
        {
          "output_type": "display_data",
          "data": {
            "text/plain": [
              "<Figure size 1000x1000 with 1 Axes>"
            ],
            "image/png": "[encoded data removed]"
          },
          "metadata": {}
        }
      ]
    },
    {
      "cell_type": "markdown",
      "source": [
        "### Training"
      ],
      "metadata": {
        "id": "K1Notkx-kdLc"
      }
    },
    {
      "cell_type": "code",
      "source": [
        "optimizer = torch.optim.Adam(gcn.parameters(), lr=0.01, weight_decay=5e-4)\n",
        "\n",
        "class_weights = torch.FloatTensor(class_weight).to(device)\n",
        "criterion = torch.nn.CrossEntropyLoss(weight=class_weights)\n",
        "\n",
        "gcn = train_node_classifier(gcn, data, optimizer, criterion, n_epochs=100)\n"
      ],
      "metadata": {
        "colab": {
          "base_uri": "https://localhost:8080/"
        },
        "id": "GpTbK4QjLO7a",
        "outputId": "d43e055b-a7fd-484c-85ea-4daa28d41c0b"
      },
      "execution_count": null,
      "outputs": [
        {
          "output_type": "stream",
          "name": "stdout",
          "text": [
            "Epoch: 010, Train Loss: 2.948, Acc: 0.000, AUC: 0.448\n",
            "Epoch: 020, Train Loss: 2.943, Acc: 0.000, AUC: 0.518\n",
            "Epoch: 030, Train Loss: 2.940, Acc: 0.000, AUC: 0.497\n",
            "Epoch: 040, Train Loss: 2.935, Acc: 0.000, AUC: 0.497\n",
            "Epoch: 050, Train Loss: 2.951, Acc: 0.000, AUC: 0.485\n",
            "Epoch: 060, Train Loss: 2.939, Acc: 0.000, AUC: 0.502\n",
            "Epoch: 070, Train Loss: 2.945, Acc: 0.000, AUC: 0.497\n",
            "Epoch: 080, Train Loss: 2.947, Acc: 0.000, AUC: 0.497\n",
            "Epoch: 090, Train Loss: 2.943, Acc: 0.000, AUC: 0.497\n",
            "Epoch: 100, Train Loss: 2.961, Acc: 0.000, AUC: 0.497\n"
          ]
        }
      ]
    },
    {
      "cell_type": "markdown",
      "source": [
        "### Evaluate after training"
      ],
      "metadata": {
        "id": "Rbl-fTohpm_S"
      }
    },
    {
      "cell_type": "code",
      "source": [
        "test_acc, test_auc = eval_node_classifier(gcn, data, data.test_mask)\n",
        "print(f'Test Acc: {test_acc:.3f}, Test auc: {test_auc:.3f}')"
      ],
      "metadata": {
        "colab": {
          "base_uri": "https://localhost:8080/"
        },
        "id": "h4ho1Q2Xpoph",
        "outputId": "1dc8b20c-1833-49ea-82b5-861b32b68081"
      },
      "execution_count": null,
      "outputs": [
        {
          "output_type": "stream",
          "name": "stdout",
          "text": [
            "Test Acc: 0.000, Test auc: 0.497\n"
          ]
        }
      ]
    },
    {
      "cell_type": "markdown",
      "source": [
        "### Visualization of the node embeddings after training"
      ],
      "metadata": {
        "id": "vrztekUckgV7"
      }
    },
    {
      "cell_type": "code",
      "source": [
        "visualize_features(gcn, data, device, 1000)"
      ],
      "metadata": {
        "colab": {
          "base_uri": "https://localhost:8080/",
          "height": 886
        },
        "id": "4EAzcMRiX0eq",
        "outputId": "91cf1df0-5204-4cf0-b18f-30130a0e8094"
      },
      "execution_count": null,
      "outputs": [
        {
          "output_type": "stream",
          "name": "stderr",
          "text": [
            "<ipython-input-152-cc07ab43160d>:20: UserWarning: *c* argument looks like a single numeric RGB or RGBA sequence, which should be avoided as value-mapping will have precedence in case its length matches with *x* & *y*.  Please use the *color* keyword-argument or provide a 2D array with a single row if you intend to specify the same RGB or RGBA value for all points.\n",
            "  plt.scatter(z[idx, 0], z[idx, 1], label=f'{c}',s=70, c=cm[c])\n"
          ]
        },
        {
          "output_type": "display_data",
          "data": {
            "text/plain": [
              "<Figure size 1000x1000 with 1 Axes>"
            ],
            "image/png": "[encoded data removed]"
          },
          "metadata": {}
        }
      ]
    },
    {
      "cell_type": "markdown",
      "source": [
        "## GNN GCNConv"
      ],
      "metadata": {
        "id": "ELzFDL80ng5D"
      }
    },
    {
      "cell_type": "code",
      "source": [],
      "metadata": {
        "id": "i0u8LXznsCV8"
      },
      "execution_count": null,
      "outputs": []
    },
    {
      "cell_type": "code",
      "source": [],
      "metadata": {
        "id": "TkeWNlmOsCN3"
      },
      "execution_count": null,
      "outputs": []
    },
    {
      "cell_type": "code",
      "execution_count": null,
      "outputs": [
        {
          "output_type": "stream",
          "name": "stdout",
          "text": [
            "GCN(\n",
            "  (conv1): GCNConv(12, 32)\n",
            "  (conv2): GCNConv(32, 21)\n",
            ")\n"
          ]
        }
      ],
      "source": [
        "import torch.nn as nn\n",
        "import torch.nn.functional as F\n",
        "from torch_geometric.nn import GCNConv\n",
        "\n",
        "class GCN(torch.nn.Module):\n",
        "    def __init__(self):\n",
        "        super().__init__()\n",
        "        torch.manual_seed(1234567)\n",
        "        self.conv1 = GCNConv(dataset.num_features, 32)\n",
        "        self.conv2 = GCNConv(32, dataset.num_classes)\n",
        "\n",
        "    def forward(self, data):\n",
        "        x, edge_index = data.x, data.edge_index\n",
        "        x = F.relu(self.conv1(x, edge_index))\n",
        "        x = F.dropout(x, p=0.5, training=self.training)\n",
        "        features = F.relu(self.conv2(x, edge_index))\n",
        "        out = F.dropout(features, p=0.2, training=self.training)\n",
        "\n",
        "        return out, out\n",
        "\n",
        "gcn = GCN().to(device)\n",
        "print(gcn)"
      ],
      "metadata": {
        "colab": {
          "base_uri": "https://localhost:8080/"
        },
        "outputId": "55763927-6fb6-4e14-f656-5fc89fb9f268",
        "id": "ufsNADQXng5H"
      }
    },
    {
      "cell_type": "markdown",
      "source": [
        "### Evaluate before training"
      ],
      "metadata": {
        "id": "k25aRKgZng5M"
      }
    },
    {
      "cell_type": "code",
      "source": [
        "test_acc, test_auc = eval_node_classifier(gcn, data, data.test_mask)\n",
        "print(f'Test Acc: {test_acc:.3f}, Test auc: {test_auc:.3f}')"
      ],
      "metadata": {
        "colab": {
          "base_uri": "https://localhost:8080/"
        },
        "outputId": "8f9bb92d-75e4-4e76-a27c-427c33374114",
        "id": "897_LtRPng5Q"
      },
      "execution_count": null,
      "outputs": [
        {
          "output_type": "stream",
          "name": "stdout",
          "text": [
            "Test Acc: 0.007, Test auc: 0.511\n"
          ]
        }
      ]
    },
    {
      "cell_type": "markdown",
      "source": [
        "### Visualization of the node embeddings before training"
      ],
      "metadata": {
        "id": "wLDT7Hmfng5U"
      }
    },
    {
      "cell_type": "code",
      "source": [
        "visualize_features(gcn, data, device, 1000)"
      ],
      "metadata": {
        "colab": {
          "base_uri": "https://localhost:8080/",
          "height": 886
        },
        "outputId": "8539ffe8-2a7b-4088-8214-56aef9827f85",
        "id": "KgkxmdD-ng5Y"
      },
      "execution_count": null,
      "outputs": [
        {
          "output_type": "stream",
          "name": "stderr",
          "text": [
            "<ipython-input-29-cc07ab43160d>:20: UserWarning: *c* argument looks like a single numeric RGB or RGBA sequence, which should be avoided as value-mapping will have precedence in case its length matches with *x* & *y*.  Please use the *color* keyword-argument or provide a 2D array with a single row if you intend to specify the same RGB or RGBA value for all points.\n",
            "  plt.scatter(z[idx, 0], z[idx, 1], label=f'{c}',s=70, c=cm[c])\n"
          ]
        },
        {
          "output_type": "display_data",
          "data": {
            "text/plain": [
              "<Figure size 1000x1000 with 1 Axes>"
            ],
            "image/png": "[encoded data removed]"
          },
          "metadata": {}
        }
      ]
    },
    {
      "cell_type": "markdown",
      "source": [
        "### Training"
      ],
      "metadata": {
        "id": "A1H86XCEng5b"
      }
    },
    {
      "cell_type": "code",
      "source": [
        "optimizer = torch.optim.Adam(gcn.parameters(), lr=0.01, weight_decay=5e-4)\n",
        "\n",
        "class_weights = torch.FloatTensor(class_weight).to(device)\n",
        "criterion = torch.nn.CrossEntropyLoss(weight=class_weights)\n",
        "\n",
        "gcn = train_node_classifier(gcn, data, optimizer, criterion, n_epochs=100)\n"
      ],
      "metadata": {
        "colab": {
          "base_uri": "https://localhost:8080/"
        },
        "outputId": "43c55808-ea89-4af6-8867-3f2d1a360df7",
        "id": "iZ_06dJsng5e"
      },
      "execution_count": null,
      "outputs": [
        {
          "output_type": "stream",
          "name": "stdout",
          "text": [
            "Epoch: 010, Train Loss: 3.051, Val Acc: 0.087, Val AUC: 0.512\n",
            "Epoch: 020, Train Loss: 3.051, Val Acc: 0.017, Val AUC: 0.500\n",
            "Epoch: 030, Train Loss: 3.051, Val Acc: 0.352, Val AUC: 0.501\n",
            "Epoch: 040, Train Loss: 3.051, Val Acc: 0.114, Val AUC: 0.506\n",
            "Epoch: 050, Train Loss: 3.051, Val Acc: 0.017, Val AUC: 0.503\n",
            "Epoch: 060, Train Loss: 3.051, Val Acc: 0.030, Val AUC: 0.504\n",
            "Epoch: 070, Train Loss: 3.051, Val Acc: 0.049, Val AUC: 0.508\n",
            "Epoch: 080, Train Loss: 3.051, Val Acc: 0.020, Val AUC: 0.508\n",
            "Epoch: 090, Train Loss: 3.051, Val Acc: 0.003, Val AUC: 0.505\n",
            "Epoch: 100, Train Loss: 3.051, Val Acc: 0.004, Val AUC: 0.508\n"
          ]
        }
      ]
    },
    {
      "cell_type": "markdown",
      "source": [
        "### Evaluate after training"
      ],
      "metadata": {
        "id": "JXk4gi_Mng5h"
      }
    },
    {
      "cell_type": "code",
      "source": [
        "test_acc, test_auc = eval_node_classifier(gcn, data, data.test_mask)\n",
        "print(f'Test Acc: {test_acc:.3f}, Test auc: {test_auc:.3f}')"
      ],
      "metadata": {
        "colab": {
          "base_uri": "https://localhost:8080/"
        },
        "outputId": "01013e20-af07-4531-98af-5d6d921dc2a9",
        "id": "anAS1aNmng5i"
      },
      "execution_count": null,
      "outputs": [
        {
          "output_type": "stream",
          "name": "stdout",
          "text": [
            "Test Acc: 0.004, Test auc: 0.508\n"
          ]
        }
      ]
    },
    {
      "cell_type": "markdown",
      "source": [
        "### Visualization of the node embeddings after training"
      ],
      "metadata": {
        "id": "02h4InS3ng5l"
      }
    },
    {
      "cell_type": "code",
      "source": [
        "visualize_features(gcn, data, device, 1000)"
      ],
      "metadata": {
        "colab": {
          "base_uri": "https://localhost:8080/",
          "height": 886
        },
        "outputId": "d20f7b93-c7f0-447e-dcc5-bc6d3f821c86",
        "id": "wWGLKR0tng5n"
      },
      "execution_count": null,
      "outputs": [
        {
          "output_type": "stream",
          "name": "stderr",
          "text": [
            "<ipython-input-29-cc07ab43160d>:20: UserWarning: *c* argument looks like a single numeric RGB or RGBA sequence, which should be avoided as value-mapping will have precedence in case its length matches with *x* & *y*.  Please use the *color* keyword-argument or provide a 2D array with a single row if you intend to specify the same RGB or RGBA value for all points.\n",
            "  plt.scatter(z[idx, 0], z[idx, 1], label=f'{c}',s=70, c=cm[c])\n"
          ]
        },
        {
          "output_type": "display_data",
          "data": {
            "text/plain": [
              "<Figure size 1000x1000 with 1 Axes>"
            ],
            "image/png": "[encoded data removed]"
          },
          "metadata": {}
        }
      ]
    }
  ],
  "metadata": {
    "kernelspec": {
      "display_name": "Python 3",
      "language": "python",
      "name": "python3"
    },
    "language_info": {
      "codemirror_mode": {
        "name": "ipython",
        "version": 2
      },
      "file_extension": ".py",
      "mimetype": "text/x-python",
      "name": "python",
      "nbconvert_exporter": "python",
      "pygments_lexer": "ipython2",
      "version": "2.7.6"
    },
    "colab": {
      "provenance": [],
      "toc_visible": true,
      "gpuType": "T4"
    },
    "accelerator": "GPU",
    "gpuClass": "standard",
    "widgets": {
      "application/vnd.jupyter.widget-state+json": {
        "06af216269e641beaec940dfcaf549fa": {
          "model_module": "@jupyter-widgets/controls",
          "model_name": "HBoxModel",
          "model_module_version": "1.5.0",
          "state": {
            "_dom_classes": [],
            "_model_module": "@jupyter-widgets/controls",
            "_model_module_version": "1.5.0",
            "_model_name": "HBoxModel",
            "_view_count": null,
            "_view_module": "@jupyter-widgets/controls",
            "_view_module_version": "1.5.0",
            "_view_name": "HBoxView",
            "box_style": "",
            "children": [
              "IPY_MODEL_a5f8d465f5794df493048afcd7b12875",
              "IPY_MODEL_20a56de743ed448682ebb76ce834c631",
              "IPY_MODEL_d3c9d1193ee3443186912bbac1a2965e"
            ],
            "layout": "IPY_MODEL_4c87964622374f93b5457750ce8ef655"
          }
        },
        "a5f8d465f5794df493048afcd7b12875": {
          "model_module": "@jupyter-widgets/controls",
          "model_name": "HTMLModel",
          "model_module_version": "1.5.0",
          "state": {
            "_dom_classes": [],
            "_model_module": "@jupyter-widgets/controls",
            "_model_module_version": "1.5.0",
            "_model_name": "HTMLModel",
            "_view_count": null,
            "_view_module": "@jupyter-widgets/controls",
            "_view_module_version": "1.5.0",
            "_view_name": "HTMLView",
            "description": "",
            "description_tooltip": null,
            "layout": "IPY_MODEL_6aa34b680a794e26a37048a5be3186bd",
            "placeholder": "​",
            "style": "IPY_MODEL_6b6e2558e8944510a94fea6487bf40c3",
            "value": "Computing transition probabilities: 100%"
          }
        },
        "20a56de743ed448682ebb76ce834c631": {
          "model_module": "@jupyter-widgets/controls",
          "model_name": "FloatProgressModel",
          "model_module_version": "1.5.0",
          "state": {
            "_dom_classes": [],
            "_model_module": "@jupyter-widgets/controls",
            "_model_module_version": "1.5.0",
            "_model_name": "FloatProgressModel",
            "_view_count": null,
            "_view_module": "@jupyter-widgets/controls",
            "_view_module_version": "1.5.0",
            "_view_name": "ProgressView",
            "bar_style": "success",
            "description": "",
            "description_tooltip": null,
            "layout": "IPY_MODEL_c2d2bc4bf3a84f9ca2de0907b8feb2a4",
            "max": 8678,
            "min": 0,
            "orientation": "horizontal",
            "style": "IPY_MODEL_8fb8d770682f49a98380eb479355c466",
            "value": 8678
          }
        },
        "d3c9d1193ee3443186912bbac1a2965e": {
          "model_module": "@jupyter-widgets/controls",
          "model_name": "HTMLModel",
          "model_module_version": "1.5.0",
          "state": {
            "_dom_classes": [],
            "_model_module": "@jupyter-widgets/controls",
            "_model_module_version": "1.5.0",
            "_model_name": "HTMLModel",
            "_view_count": null,
            "_view_module": "@jupyter-widgets/controls",
            "_view_module_version": "1.5.0",
            "_view_name": "HTMLView",
            "description": "",
            "description_tooltip": null,
            "layout": "IPY_MODEL_b789ed806fb244fd89c5b40851203e68",
            "placeholder": "​",
            "style": "IPY_MODEL_c15212679b764f708feb40a3e94a56c7",
            "value": " 8678/8678 [05:06&lt;00:00, 33.62it/s]"
          }
        },
        "4c87964622374f93b5457750ce8ef655": {
          "model_module": "@jupyter-widgets/base",
          "model_name": "LayoutModel",
          "model_module_version": "1.2.0",
          "state": {
            "_model_module": "@jupyter-widgets/base",
            "_model_module_version": "1.2.0",
            "_model_name": "LayoutModel",
            "_view_count": null,
            "_view_module": "@jupyter-widgets/base",
            "_view_module_version": "1.2.0",
            "_view_name": "LayoutView",
            "align_content": null,
            "align_items": null,
            "align_self": null,
            "border": null,
            "bottom": null,
            "display": null,
            "flex": null,
            "flex_flow": null,
            "grid_area": null,
            "grid_auto_columns": null,
            "grid_auto_flow": null,
            "grid_auto_rows": null,
            "grid_column": null,
            "grid_gap": null,
            "grid_row": null,
            "grid_template_areas": null,
            "grid_template_columns": null,
            "grid_template_rows": null,
            "height": null,
            "justify_content": null,
            "justify_items": null,
            "left": null,
            "margin": null,
            "max_height": null,
            "max_width": null,
            "min_height": null,
            "min_width": null,
            "object_fit": null,
            "object_position": null,
            "order": null,
            "overflow": null,
            "overflow_x": null,
            "overflow_y": null,
            "padding": null,
            "right": null,
            "top": null,
            "visibility": null,
            "width": null
          }
        },
        "6aa34b680a794e26a37048a5be3186bd": {
          "model_module": "@jupyter-widgets/base",
          "model_name": "LayoutModel",
          "model_module_version": "1.2.0",
          "state": {
            "_model_module": "@jupyter-widgets/base",
            "_model_module_version": "1.2.0",
            "_model_name": "LayoutModel",
            "_view_count": null,
            "_view_module": "@jupyter-widgets/base",
            "_view_module_version": "1.2.0",
            "_view_name": "LayoutView",
            "align_content": null,
            "align_items": null,
            "align_self": null,
            "border": null,
            "bottom": null,
            "display": null,
            "flex": null,
            "flex_flow": null,
            "grid_area": null,
            "grid_auto_columns": null,
            "grid_auto_flow": null,
            "grid_auto_rows": null,
            "grid_column": null,
            "grid_gap": null,
            "grid_row": null,
            "grid_template_areas": null,
            "grid_template_columns": null,
            "grid_template_rows": null,
            "height": null,
            "justify_content": null,
            "justify_items": null,
            "left": null,
            "margin": null,
            "max_height": null,
            "max_width": null,
            "min_height": null,
            "min_width": null,
            "object_fit": null,
            "object_position": null,
            "order": null,
            "overflow": null,
            "overflow_x": null,
            "overflow_y": null,
            "padding": null,
            "right": null,
            "top": null,
            "visibility": null,
            "width": null
          }
        },
        "6b6e2558e8944510a94fea6487bf40c3": {
          "model_module": "@jupyter-widgets/controls",
          "model_name": "DescriptionStyleModel",
          "model_module_version": "1.5.0",
          "state": {
            "_model_module": "@jupyter-widgets/controls",
            "_model_module_version": "1.5.0",
            "_model_name": "DescriptionStyleModel",
            "_view_count": null,
            "_view_module": "@jupyter-widgets/base",
            "_view_module_version": "1.2.0",
            "_view_name": "StyleView",
            "description_width": ""
          }
        },
        "c2d2bc4bf3a84f9ca2de0907b8feb2a4": {
          "model_module": "@jupyter-widgets/base",
          "model_name": "LayoutModel",
          "model_module_version": "1.2.0",
          "state": {
            "_model_module": "@jupyter-widgets/base",
            "_model_module_version": "1.2.0",
            "_model_name": "LayoutModel",
            "_view_count": null,
            "_view_module": "@jupyter-widgets/base",
            "_view_module_version": "1.2.0",
            "_view_name": "LayoutView",
            "align_content": null,
            "align_items": null,
            "align_self": null,
            "border": null,
            "bottom": null,
            "display": null,
            "flex": null,
            "flex_flow": null,
            "grid_area": null,
            "grid_auto_columns": null,
            "grid_auto_flow": null,
            "grid_auto_rows": null,
            "grid_column": null,
            "grid_gap": null,
            "grid_row": null,
            "grid_template_areas": null,
            "grid_template_columns": null,
            "grid_template_rows": null,
            "height": null,
            "justify_content": null,
            "justify_items": null,
            "left": null,
            "margin": null,
            "max_height": null,
            "max_width": null,
            "min_height": null,
            "min_width": null,
            "object_fit": null,
            "object_position": null,
            "order": null,
            "overflow": null,
            "overflow_x": null,
            "overflow_y": null,
            "padding": null,
            "right": null,
            "top": null,
            "visibility": null,
            "width": null
          }
        },
        "8fb8d770682f49a98380eb479355c466": {
          "model_module": "@jupyter-widgets/controls",
          "model_name": "ProgressStyleModel",
          "model_module_version": "1.5.0",
          "state": {
            "_model_module": "@jupyter-widgets/controls",
            "_model_module_version": "1.5.0",
            "_model_name": "ProgressStyleModel",
            "_view_count": null,
            "_view_module": "@jupyter-widgets/base",
            "_view_module_version": "1.2.0",
            "_view_name": "StyleView",
            "bar_color": null,
            "description_width": ""
          }
        },
        "b789ed806fb244fd89c5b40851203e68": {
          "model_module": "@jupyter-widgets/base",
          "model_name": "LayoutModel",
          "model_module_version": "1.2.0",
          "state": {
            "_model_module": "@jupyter-widgets/base",
            "_model_module_version": "1.2.0",
            "_model_name": "LayoutModel",
            "_view_count": null,
            "_view_module": "@jupyter-widgets/base",
            "_view_module_version": "1.2.0",
            "_view_name": "LayoutView",
            "align_content": null,
            "align_items": null,
            "align_self": null,
            "border": null,
            "bottom": null,
            "display": null,
            "flex": null,
            "flex_flow": null,
            "grid_area": null,
            "grid_auto_columns": null,
            "grid_auto_flow": null,
            "grid_auto_rows": null,
            "grid_column": null,
            "grid_gap": null,
            "grid_row": null,
            "grid_template_areas": null,
            "grid_template_columns": null,
            "grid_template_rows": null,
            "height": null,
            "justify_content": null,
            "justify_items": null,
            "left": null,
            "margin": null,
            "max_height": null,
            "max_width": null,
            "min_height": null,
            "min_width": null,
            "object_fit": null,
            "object_position": null,
            "order": null,
            "overflow": null,
            "overflow_x": null,
            "overflow_y": null,
            "padding": null,
            "right": null,
            "top": null,
            "visibility": null,
            "width": null
          }
        },
        "c15212679b764f708feb40a3e94a56c7": {
          "model_module": "@jupyter-widgets/controls",
          "model_name": "DescriptionStyleModel",
          "model_module_version": "1.5.0",
          "state": {
            "_model_module": "@jupyter-widgets/controls",
            "_model_module_version": "1.5.0",
            "_model_name": "DescriptionStyleModel",
            "_view_count": null,
            "_view_module": "@jupyter-widgets/base",
            "_view_module_version": "1.2.0",
            "_view_name": "StyleView",
            "description_width": ""
          }
        }
      }
    }
  },
  "nbformat": 4,
  "nbformat_minor": 0
}